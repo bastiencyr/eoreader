{
 "cells": [
  {
   "cell_type": "code",
   "execution_count": 1,
   "id": "fb4d6b22",
   "metadata": {},
   "outputs": [],
   "source": [
    "# Imports\n",
    "import os\n",
    "from eoreader.reader import Reader\n",
    "from eoreader.bands import GREEN\n",
    "from eoreader.keywords import CLEAN_OPTICAL\n",
    "from eoreader.products import CleanMethod"
   ]
  },
  {
   "cell_type": "code",
   "execution_count": 2,
   "id": "62e00730",
   "metadata": {},
   "outputs": [],
   "source": [
    "# Open the product\n",
    "folder = os.path.join(\"/home\", \"data\", \"DS3\", \"CI\", \"eoreader\", \"optical\")\n",
    "path = os.path.join(folder, \"LC08_L1TP_200030_20201220_20210310_02_T1.tar\")\n",
    "reader = Reader()\n",
    "prod = reader.open(path)"
   ]
  },
  {
   "cell_type": "code",
   "execution_count": 3,
   "id": "a122e342",
   "metadata": {
    "scrolled": true
   },
   "outputs": [
    {
     "name": "stdout",
     "output_type": "stream",
     "text": [
      "1.71 s ± 58.3 ms per loop (mean ± std. dev. of 7 runs, 1 loop each)\n"
     ]
    }
   ],
   "source": [
    "%%timeit\n",
    "prod.load(\n",
    "    GREEN, \n",
    "    **{CLEAN_OPTICAL: CleanMethod.RAW}\n",
    ")\n",
    "prod.clean_tmp()"
   ]
  },
  {
   "cell_type": "code",
   "execution_count": 4,
   "id": "62873f96",
   "metadata": {},
   "outputs": [
    {
     "name": "stdout",
     "output_type": "stream",
     "text": [
      "2.51 s ± 45.1 ms per loop (mean ± std. dev. of 7 runs, 1 loop each)\n"
     ]
    }
   ],
   "source": [
    "%%timeit\n",
    "prod.load(\n",
    "    GREEN, \n",
    "    **{CLEAN_OPTICAL: CleanMethod.NODATA}\n",
    ")\n",
    "prod.clean_tmp()"
   ]
  },
  {
   "cell_type": "code",
   "execution_count": 5,
   "id": "1f27e722",
   "metadata": {
    "pycharm": {
     "name": "#%%\n"
    }
   },
   "outputs": [
    {
     "name": "stdout",
     "output_type": "stream",
     "text": [
      "4.62 s ± 149 ms per loop (mean ± std. dev. of 7 runs, 1 loop each)\n"
     ]
    }
   ],
   "source": [
    "%%timeit\n",
    "prod.load(\n",
    "    GREEN, \n",
    "    **{CLEAN_OPTICAL: CleanMethod.CLEAN}\n",
    ")\n",
    "prod.clean_tmp()"
   ]
  },
  {
   "cell_type": "code",
   "execution_count": 6,
   "id": "004d4c20",
   "metadata": {
    "pycharm": {
     "name": "#%%\n"
    }
   },
   "outputs": [],
   "source": [
    "# Open the product\n",
    "path = os.path.join(folder, \"S2B_MSIL2A_20200114T065229_N0213_R020_T40REQ_20200114T094749.SAFE\")\n",
    "prod = reader.open(path)"
   ]
  },
  {
   "cell_type": "code",
   "execution_count": 7,
   "id": "9d5b17c5",
   "metadata": {
    "pycharm": {
     "name": "#%%\n"
    }
   },
   "outputs": [
    {
     "name": "stdout",
     "output_type": "stream",
     "text": [
      "1.66 s ± 35.4 ms per loop (mean ± std. dev. of 7 runs, 1 loop each)\n"
     ]
    }
   ],
   "source": [
    "%%timeit\n",
    "prod.load(\n",
    "    GREEN,\n",
    "    resolution=20.,\n",
    "    **{CLEAN_OPTICAL: CleanMethod.RAW}\n",
    ")\n",
    "prod.clean_tmp()"
   ]
  },
  {
   "cell_type": "code",
   "execution_count": 8,
   "id": "a3b56bda",
   "metadata": {
    "pycharm": {
     "name": "#%%\n"
    }
   },
   "outputs": [
    {
     "name": "stdout",
     "output_type": "stream",
     "text": [
      "2.14 s ± 27.3 ms per loop (mean ± std. dev. of 7 runs, 1 loop each)\n"
     ]
    }
   ],
   "source": [
    "%%timeit\n",
    "prod.load(\n",
    "    GREEN,\n",
    "    resolution=20.,\n",
    "    **{CLEAN_OPTICAL: CleanMethod.NODATA}\n",
    ")\n",
    "prod.clean_tmp()"
   ]
  },
  {
   "cell_type": "code",
   "execution_count": 9,
   "id": "55e3d5b0",
   "metadata": {
    "pycharm": {
     "name": "#%%\n"
    }
   },
   "outputs": [
    {
     "name": "stderr",
     "output_type": "stream",
     "text": [
      "/home/data/eoreader/eoreader/products/optical/s2_product.py:952: FutureWarning: The frame.append method is deprecated and will be removed from pandas in a future version. Use pandas.concat instead.\n",
      "  nodata_pix.append(self._open_mask_lt_4_0(S2GmlMasks.DEFECT, band))\n",
      "/home/data/eoreader/eoreader/products/optical/s2_product.py:953: FutureWarning: The frame.append method is deprecated and will be removed from pandas in a future version. Use pandas.concat instead.\n",
      "  nodata_pix.append(self._open_mask_lt_4_0(S2GmlMasks.SATURATION, band))\n"
     ]
    },
    {
     "name": "stderr",
     "output_type": "stream",
     "text": [
      "/home/data/eoreader/eoreader/products/optical/s2_product.py:960: FutureWarning: The frame.append method is deprecated and will be removed from pandas in a future version. Use pandas.concat instead.\n",
      "  nodata_pix.append(tecqua)\n"
     ]
    },
    {
     "name": "stderr",
     "output_type": "stream",
     "text": [
      "/home/data/eoreader/eoreader/products/optical/s2_product.py:952: FutureWarning: The frame.append method is deprecated and will be removed from pandas in a future version. Use pandas.concat instead.\n",
      "  nodata_pix.append(self._open_mask_lt_4_0(S2GmlMasks.DEFECT, band))\n",
      "/home/data/eoreader/eoreader/products/optical/s2_product.py:953: FutureWarning: The frame.append method is deprecated and will be removed from pandas in a future version. Use pandas.concat instead.\n",
      "  nodata_pix.append(self._open_mask_lt_4_0(S2GmlMasks.SATURATION, band))\n"
     ]
    },
    {
     "name": "stderr",
     "output_type": "stream",
     "text": [
      "/home/data/eoreader/eoreader/products/optical/s2_product.py:960: FutureWarning: The frame.append method is deprecated and will be removed from pandas in a future version. Use pandas.concat instead.\n",
      "  nodata_pix.append(tecqua)\n"
     ]
    },
    {
     "name": "stderr",
     "output_type": "stream",
     "text": [
      "/home/data/eoreader/eoreader/products/optical/s2_product.py:952: FutureWarning: The frame.append method is deprecated and will be removed from pandas in a future version. Use pandas.concat instead.\n",
      "  nodata_pix.append(self._open_mask_lt_4_0(S2GmlMasks.DEFECT, band))\n",
      "/home/data/eoreader/eoreader/products/optical/s2_product.py:953: FutureWarning: The frame.append method is deprecated and will be removed from pandas in a future version. Use pandas.concat instead.\n",
      "  nodata_pix.append(self._open_mask_lt_4_0(S2GmlMasks.SATURATION, band))\n"
     ]
    },
    {
     "name": "stderr",
     "output_type": "stream",
     "text": [
      "/home/data/eoreader/eoreader/products/optical/s2_product.py:960: FutureWarning: The frame.append method is deprecated and will be removed from pandas in a future version. Use pandas.concat instead.\n",
      "  nodata_pix.append(tecqua)\n"
     ]
    },
    {
     "name": "stderr",
     "output_type": "stream",
     "text": [
      "/home/data/eoreader/eoreader/products/optical/s2_product.py:952: FutureWarning: The frame.append method is deprecated and will be removed from pandas in a future version. Use pandas.concat instead.\n",
      "  nodata_pix.append(self._open_mask_lt_4_0(S2GmlMasks.DEFECT, band))\n",
      "/home/data/eoreader/eoreader/products/optical/s2_product.py:953: FutureWarning: The frame.append method is deprecated and will be removed from pandas in a future version. Use pandas.concat instead.\n",
      "  nodata_pix.append(self._open_mask_lt_4_0(S2GmlMasks.SATURATION, band))\n"
     ]
    },
    {
     "name": "stderr",
     "output_type": "stream",
     "text": [
      "/home/data/eoreader/eoreader/products/optical/s2_product.py:960: FutureWarning: The frame.append method is deprecated and will be removed from pandas in a future version. Use pandas.concat instead.\n",
      "  nodata_pix.append(tecqua)\n"
     ]
    },
    {
     "name": "stderr",
     "output_type": "stream",
     "text": [
      "/home/data/eoreader/eoreader/products/optical/s2_product.py:952: FutureWarning: The frame.append method is deprecated and will be removed from pandas in a future version. Use pandas.concat instead.\n",
      "  nodata_pix.append(self._open_mask_lt_4_0(S2GmlMasks.DEFECT, band))\n",
      "/home/data/eoreader/eoreader/products/optical/s2_product.py:953: FutureWarning: The frame.append method is deprecated and will be removed from pandas in a future version. Use pandas.concat instead.\n",
      "  nodata_pix.append(self._open_mask_lt_4_0(S2GmlMasks.SATURATION, band))\n"
     ]
    },
    {
     "name": "stderr",
     "output_type": "stream",
     "text": [
      "/home/data/eoreader/eoreader/products/optical/s2_product.py:960: FutureWarning: The frame.append method is deprecated and will be removed from pandas in a future version. Use pandas.concat instead.\n",
      "  nodata_pix.append(tecqua)\n"
     ]
    },
    {
     "name": "stderr",
     "output_type": "stream",
     "text": [
      "/home/data/eoreader/eoreader/products/optical/s2_product.py:952: FutureWarning: The frame.append method is deprecated and will be removed from pandas in a future version. Use pandas.concat instead.\n",
      "  nodata_pix.append(self._open_mask_lt_4_0(S2GmlMasks.DEFECT, band))\n",
      "/home/data/eoreader/eoreader/products/optical/s2_product.py:953: FutureWarning: The frame.append method is deprecated and will be removed from pandas in a future version. Use pandas.concat instead.\n",
      "  nodata_pix.append(self._open_mask_lt_4_0(S2GmlMasks.SATURATION, band))\n"
     ]
    },
    {
     "name": "stderr",
     "output_type": "stream",
     "text": [
      "/home/data/eoreader/eoreader/products/optical/s2_product.py:960: FutureWarning: The frame.append method is deprecated and will be removed from pandas in a future version. Use pandas.concat instead.\n",
      "  nodata_pix.append(tecqua)\n"
     ]
    },
    {
     "name": "stderr",
     "output_type": "stream",
     "text": [
      "/home/data/eoreader/eoreader/products/optical/s2_product.py:952: FutureWarning: The frame.append method is deprecated and will be removed from pandas in a future version. Use pandas.concat instead.\n",
      "  nodata_pix.append(self._open_mask_lt_4_0(S2GmlMasks.DEFECT, band))\n",
      "/home/data/eoreader/eoreader/products/optical/s2_product.py:953: FutureWarning: The frame.append method is deprecated and will be removed from pandas in a future version. Use pandas.concat instead.\n",
      "  nodata_pix.append(self._open_mask_lt_4_0(S2GmlMasks.SATURATION, band))\n"
     ]
    },
    {
     "name": "stderr",
     "output_type": "stream",
     "text": [
      "/home/data/eoreader/eoreader/products/optical/s2_product.py:960: FutureWarning: The frame.append method is deprecated and will be removed from pandas in a future version. Use pandas.concat instead.\n",
      "  nodata_pix.append(tecqua)\n"
     ]
    },
    {
     "name": "stderr",
     "output_type": "stream",
     "text": [
      "/home/data/eoreader/eoreader/products/optical/s2_product.py:952: FutureWarning: The frame.append method is deprecated and will be removed from pandas in a future version. Use pandas.concat instead.\n",
      "  nodata_pix.append(self._open_mask_lt_4_0(S2GmlMasks.DEFECT, band))\n",
      "/home/data/eoreader/eoreader/products/optical/s2_product.py:953: FutureWarning: The frame.append method is deprecated and will be removed from pandas in a future version. Use pandas.concat instead.\n",
      "  nodata_pix.append(self._open_mask_lt_4_0(S2GmlMasks.SATURATION, band))\n"
     ]
    },
    {
     "name": "stderr",
     "output_type": "stream",
     "text": [
      "/home/data/eoreader/eoreader/products/optical/s2_product.py:960: FutureWarning: The frame.append method is deprecated and will be removed from pandas in a future version. Use pandas.concat instead.\n",
      "  nodata_pix.append(tecqua)\n"
     ]
    },
    {
     "name": "stdout",
     "output_type": "stream",
     "text": [
      "2.76 s ± 39.1 ms per loop (mean ± std. dev. of 7 runs, 1 loop each)\n"
     ]
    }
   ],
   "source": [
    "%%timeit\n",
    "prod.load(\n",
    "    GREEN,\n",
    "    resolution=20.,\n",
    "    **{CLEAN_OPTICAL: CleanMethod.CLEAN}\n",
    ")\n",
    "prod.clean_tmp()"
   ]
  },
  {
   "cell_type": "code",
   "execution_count": 10,
   "id": "a12fe297",
   "metadata": {
    "pycharm": {
     "name": "#%%\n"
    }
   },
   "outputs": [],
   "source": [
    "# Open the product\n",
    "path = os.path.join(folder, \"S2B_MSIL2A_20210517T103619_N7990_R008_T30QVE_20211004T113819.SAFE\")\n",
    "prod = reader.open(path)"
   ]
  },
  {
   "cell_type": "code",
   "execution_count": 11,
   "id": "ea29c971",
   "metadata": {
    "pycharm": {
     "name": "#%%\n"
    }
   },
   "outputs": [
    {
     "name": "stdout",
     "output_type": "stream",
     "text": [
      "1.76 s ± 9.31 ms per loop (mean ± std. dev. of 7 runs, 1 loop each)\n"
     ]
    }
   ],
   "source": [
    "%%timeit\n",
    "prod.load(\n",
    "    GREEN,\n",
    "    resolution=20.,\n",
    "    **{CLEAN_OPTICAL: CleanMethod.RAW}\n",
    ")\n",
    "prod.clean_tmp()"
   ]
  },
  {
   "cell_type": "code",
   "execution_count": 12,
   "id": "effc287c",
   "metadata": {
    "pycharm": {
     "name": "#%%\n"
    }
   },
   "outputs": [
    {
     "name": "stdout",
     "output_type": "stream",
     "text": [
      "4.19 s ± 42.6 ms per loop (mean ± std. dev. of 7 runs, 1 loop each)\n"
     ]
    }
   ],
   "source": [
    "%%timeit\n",
    "prod.load(\n",
    "    GREEN,\n",
    "    resolution=20.,\n",
    "    **{CLEAN_OPTICAL: CleanMethod.NODATA}\n",
    ")\n",
    "prod.clean_tmp()"
   ]
  },
  {
   "cell_type": "code",
   "execution_count": 13,
   "id": "00a977f1",
   "metadata": {
    "pycharm": {
     "name": "#%%\n"
    }
   },
   "outputs": [
    {
     "name": "stdout",
     "output_type": "stream",
     "text": [
      "12.2 s ± 18.3 ms per loop (mean ± std. dev. of 7 runs, 1 loop each)\n"
     ]
    }
   ],
   "source": [
    "%%timeit\n",
    "prod.load(\n",
    "    GREEN,\n",
    "    resolution=20.,\n",
    "    **{CLEAN_OPTICAL: CleanMethod.CLEAN}\n",
    ")\n",
    "prod.clean_tmp()"
   ]
  }
 ],
 "metadata": {
  "kernelspec": {
   "display_name": "Python 3 (ipykernel)",
   "language": "python",
   "name": "python3"
  },
  "language_info": {
   "codemirror_mode": {
    "name": "ipython",
    "version": 3
   },
   "file_extension": ".py",
   "mimetype": "text/x-python",
   "name": "python",
   "nbconvert_exporter": "python",
   "pygments_lexer": "ipython3",
   "version": "3.9.12"
  }
 },
 "nbformat": 4,
 "nbformat_minor": 5
}