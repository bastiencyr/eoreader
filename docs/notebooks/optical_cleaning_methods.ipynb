{
 "cells": [
  {
   "cell_type": "markdown",
   "id": "1a8ab2e1",
   "metadata": {},
   "source": [
    "# Cleaning methods when loading optical bands\n",
    "Let's take a peek on the cleaning methods of optical bands and their potential respective time-consumption.\n",
    "\n",
    "Note that these keywords are working with both `load` and `stack` functions.\n"
   ]
  },
  {
   "cell_type": "markdown",
   "id": "2a063f3c",
   "metadata": {},
   "source": [
    "## Try with Landsat-8\n",
    "\n",
    "Let's open a Landsat-8 OLCI collection 2 tile.\n",
    "Landsat COL-2 products manage their nodata and defective pixels through two flag files:\n",
    "- `QA_PIXELS`\n",
    "- `QA_RADSAT`\n",
    "\n",
    "See more about these files [here](https://www.usgs.gov/core-science-systems/nli/landsat/landsat-collection-2-quality-assessment-bands)"
   ]
  },
  {
   "cell_type": "code",
   "execution_count": 1,
   "id": "fb4d6b22",
   "metadata": {},
   "outputs": [],
   "source": [
    "# Imports\n",
    "import os\n",
    "from eoreader.reader import Reader\n",
    "from eoreader.bands import GREEN\n",
    "from eoreader.keywords import CLEAN_OPTICAL\n",
    "from eoreader.products import CleanMethod"
   ]
  },
  {
   "cell_type": "code",
   "execution_count": 2,
   "id": "62e00730",
   "metadata": {},
   "outputs": [],
   "source": [
    "# Open the product\n",
    "folder = os.path.join(\"/home\", \"data\", \"DS3\", \"CI\", \"eoreader\", \"optical\")\n",
    "path = os.path.join(folder, \"LC08_L1TP_200030_20201220_20210310_02_T1.tar\")\n",
    "eoreader = Reader()\n",
    "prod = eoreader.open(path)"
   ]
  },
  {
   "cell_type": "markdown",
   "id": "ef49349c",
   "metadata": {},
   "source": [
    "### Time the RAW method\n",
    "The `RAW` method is simple: just open the given tile with no pixel processing."
   ]
  },
  {
   "cell_type": "code",
   "execution_count": 3,
   "id": "a122e342",
   "metadata": {
    "scrolled": true
   },
   "outputs": [
    {
     "name": "stdout",
     "output_type": "stream",
     "text": [
      "1.76 s ± 78.2 ms per loop (mean ± std. dev. of 7 runs, 1 loop each)\n"
     ]
    }
   ],
   "source": [
    "%%timeit\n",
    "prod.load(\n",
    "    GREEN, \n",
    "    **{CLEAN_OPTICAL: CleanMethod.RAW}\n",
    ")\n",
    "prod.clean_tmp()"
   ]
  },
  {
   "cell_type": "markdown",
   "id": "89f44f6a",
   "metadata": {},
   "source": [
    "### Time the NODATA method\n",
    "Only the detector nodata is processed by the `NODATA` method.  \n",
    "The bands will be set to `nodata` outside of the detector footprint (instead of keeping the raw nodata value)"
   ]
  },
  {
   "cell_type": "code",
   "execution_count": 4,
   "id": "62873f96",
   "metadata": {},
   "outputs": [
    {
     "name": "stdout",
     "output_type": "stream",
     "text": [
      "2.76 s ± 57.9 ms per loop (mean ± std. dev. of 7 runs, 1 loop each)\n"
     ]
    }
   ],
   "source": [
    "%%timeit\n",
    "prod.load(\n",
    "    GREEN, \n",
    "    **{CLEAN_OPTICAL: CleanMethod.NODATA}\n",
    ")\n",
    "prod.clean_tmp()"
   ]
  },
  {
   "cell_type": "markdown",
   "id": "72348c0a",
   "metadata": {},
   "source": [
    "### Time the CLEAN method\n",
    "Every defective pixel given by the provider by the `CLEAN` method.\n",
    "These pixels will be set to `nodata`."
   ]
  },
  {
   "cell_type": "code",
   "execution_count": 5,
   "id": "1f27e722",
   "metadata": {
    "pycharm": {
     "name": "#%%\n"
    }
   },
   "outputs": [
    {
     "name": "stdout",
     "output_type": "stream",
     "text": [
      "4.93 s ± 70.3 ms per loop (mean ± std. dev. of 7 runs, 1 loop each)\n"
     ]
    }
   ],
   "source": [
    "%%timeit\n",
    "prod.load(\n",
    "    GREEN, \n",
    "    **{CLEAN_OPTICAL: CleanMethod.CLEAN}\n",
    ")\n",
    "prod.clean_tmp()"
   ]
  },
  {
   "cell_type": "markdown",
   "id": "5bd635ef",
   "metadata": {},
   "source": [
    "____\n",
    "## Try another product: Sentinel-2\n",
    "\n",
    "Let's open a Sentinel-2 *(processing baseline < 04.00, ~acquired before end of 2021, with flag files provided as vectors).*\n",
    "\n",
    "The invalid pixel are retrived from the files:\n",
    "- `DETFOO`: Detector footprint (nodata outside the detectors)\n",
    "- `NODATA`: Pixel nodata (inside the detectors) (`QT_NODATA_PIXELS`)\n",
    "- `DEFECT`: Defective pixels\n",
    "- `SATURA`: Saturated Pixels\n",
    "- `TECQUA`: Technical quality mask (`MSI_LOST`, `MSI_DEG`)\n"
   ]
  },
  {
   "cell_type": "code",
   "execution_count": 6,
   "id": "004d4c20",
   "metadata": {
    "pycharm": {
     "name": "#%%\n"
    }
   },
   "outputs": [],
   "source": [
    "# Open the product\n",
    "path = os.path.join(folder, \"S2B_MSIL2A_20200114T065229_N0213_R020_T40REQ_20200114T094749.SAFE\")\n",
    "eoreader = Reader()\n",
    "prod = eoreader.open(path)"
   ]
  },
  {
   "cell_type": "markdown",
   "id": "81ff0184",
   "metadata": {},
   "source": [
    "### Time the RAW method\n",
    "The `RAW` method is simple: just open the given tile with no pixel processing."
   ]
  },
  {
   "cell_type": "code",
   "execution_count": 7,
   "id": "9d5b17c5",
   "metadata": {
    "pycharm": {
     "name": "#%%\n"
    }
   },
   "outputs": [
    {
     "name": "stdout",
     "output_type": "stream",
     "text": [
      "1.75 s ± 46.7 ms per loop (mean ± std. dev. of 7 runs, 1 loop each)\n"
     ]
    }
   ],
   "source": [
    "%%timeit\n",
    "prod.load(\n",
    "    GREEN,\n",
    "    **{CLEAN_OPTICAL: CleanMethod.RAW}\n",
    ")\n",
    "prod.clean_tmp()"
   ]
  },
  {
   "cell_type": "markdown",
   "id": "01110241",
   "metadata": {},
   "source": [
    "### Time the NODATA method\n",
    "Only the detector nodata is processed by the `NODATA` method.  \n",
    "The bands will be set to `nodata` outside of the detector footprint (instead of keeping the raw nodata value)"
   ]
  },
  {
   "cell_type": "code",
   "execution_count": 8,
   "id": "a3b56bda",
   "metadata": {
    "pycharm": {
     "name": "#%%\n"
    }
   },
   "outputs": [
    {
     "name": "stdout",
     "output_type": "stream",
     "text": [
      "2.23 s ± 27 ms per loop (mean ± std. dev. of 7 runs, 1 loop each)\n"
     ]
    }
   ],
   "source": [
    "%%timeit\n",
    "prod.load(\n",
    "    GREEN,\n",
    "    **{CLEAN_OPTICAL: CleanMethod.NODATA}\n",
    ")\n",
    "prod.clean_tmp()"
   ]
  },
  {
   "cell_type": "markdown",
   "id": "f4825d9c",
   "metadata": {},
   "source": [
    "### Time the CLEAN method\n",
    "Every defective pixel given by the provider by the `CLEAN` method.\n",
    "These pixels will be set to `nodata`."
   ]
  },
  {
   "cell_type": "code",
   "execution_count": 9,
   "id": "55e3d5b0",
   "metadata": {
    "pycharm": {
     "name": "#%%\n"
    }
   },
   "outputs": [
    {
     "name": "stdout",
     "output_type": "stream",
     "text": [
      "2.67 s ± 36 ms per loop (mean ± std. dev. of 7 runs, 1 loop each)\n"
     ]
    }
   ],
   "source": [
    "%%timeit\n",
    "prod.load(\n",
    "    GREEN,\n",
    "    **{CLEAN_OPTICAL: CleanMethod.CLEAN}\n",
    ")\n",
    "prod.clean_tmp()"
   ]
  },
  {
   "cell_type": "markdown",
   "id": "c044b397",
   "metadata": {},
   "source": [
    "____\n",
    "## Try with the latest Sentinel-2 baseline\n",
    "\n",
    "Let's open a Sentinel-2 *(processing baseline >= 04.00, ~acquired after end of 2021, with flag files provided as rasters).*\n",
    "\n",
    "The invalid pixel are retrived from the file:\n",
    "- `QUALIT`: Regrouping `TECQUA`, `DEFECT`, `NODATA`, `SATURA`\n",
    "\n",
    "The nodata pixels (outside detector footprints) are now retrieved from null pixels, as a radiometric offset has been added.\n",
    "\n",
    "See [here](https://sentinels.copernicus.eu/web/sentinel/-/copernicus-sentinel-2-major-products-upgrade-upcoming) for more information about the processing baseline update."
   ]
  },
  {
   "cell_type": "code",
   "execution_count": 10,
   "id": "a12fe297",
   "metadata": {
    "pycharm": {
     "name": "#%%\n"
    }
   },
   "outputs": [],
   "source": [
    "# Open the product\n",
    "path = os.path.join(folder, \"S2B_MSIL2A_20210517T103619_N7990_R008_T30QVE_20211004T113819.SAFE\")\n",
    "eoreader = Reader()\n",
    "prod = eoreader.open(path)"
   ]
  },
  {
   "cell_type": "markdown",
   "id": "4eba5048",
   "metadata": {},
   "source": [
    "### Time the RAW method\n",
    "The `RAW` method is simple: just open the given tile with no pixel processing."
   ]
  },
  {
   "cell_type": "code",
   "execution_count": 11,
   "id": "ea29c971",
   "metadata": {
    "pycharm": {
     "name": "#%%\n"
    }
   },
   "outputs": [
    {
     "name": "stdout",
     "output_type": "stream",
     "text": [
      "1.78 s ± 23.3 ms per loop (mean ± std. dev. of 7 runs, 1 loop each)\n"
     ]
    }
   ],
   "source": [
    "%%timeit\n",
    "prod.load(\n",
    "    GREEN,\n",
    "    **{CLEAN_OPTICAL: CleanMethod.RAW}\n",
    ")\n",
    "prod.clean_tmp()"
   ]
  },
  {
   "cell_type": "markdown",
   "id": "27edf681",
   "metadata": {},
   "source": [
    "### Time the NODATA method\n",
    "Only the detector nodata is processed by the `NODATA` method.  \n",
    "The bands will be set to `nodata` outside of the detector footprint (instead of keeping the raw nodata value)"
   ]
  },
  {
   "cell_type": "code",
   "execution_count": 12,
   "id": "effc287c",
   "metadata": {
    "pycharm": {
     "name": "#%%\n"
    }
   },
   "outputs": [
    {
     "name": "stdout",
     "output_type": "stream",
     "text": [
      "1.95 s ± 32.4 ms per loop (mean ± std. dev. of 7 runs, 1 loop each)\n"
     ]
    }
   ],
   "source": [
    "%%timeit\n",
    "prod.load(\n",
    "    GREEN,\n",
    "    **{CLEAN_OPTICAL: CleanMethod.NODATA}\n",
    ")\n",
    "prod.clean_tmp()"
   ]
  },
  {
   "cell_type": "markdown",
   "id": "1e333d32",
   "metadata": {},
   "source": [
    "### Time the CLEAN method\n",
    "Every defective pixel given by the provider by the `CLEAN` method.\n",
    "These pixels will be set to `nodata`."
   ]
  },
  {
   "cell_type": "code",
   "execution_count": 13,
   "id": "00a977f1",
   "metadata": {
    "pycharm": {
     "name": "#%%\n"
    }
   },
   "outputs": [
    {
     "name": "stdout",
     "output_type": "stream",
     "text": [
      "9.6 s ± 120 ms per loop (mean ± std. dev. of 7 runs, 1 loop each)\n"
     ]
    }
   ],
   "source": [
    "%%timeit\n",
    "prod.load(\n",
    "    GREEN,\n",
    "    **{CLEAN_OPTICAL: CleanMethod.CLEAN}\n",
    ")\n",
    "prod.clean_tmp()\n"
   ]
  }
 ],
 "metadata": {
  "kernelspec": {
   "display_name": "Python 3 (ipykernel)",
   "language": "python",
   "name": "python3"
  },
  "language_info": {
   "codemirror_mode": {
    "name": "ipython",
    "version": 3
   },
   "file_extension": ".py",
   "mimetype": "text/x-python",
   "name": "python",
   "nbconvert_exporter": "python",
   "pygments_lexer": "ipython3",
   "version": "3.9.7"
  }
 },
 "nbformat": 4,
 "nbformat_minor": 5
}
