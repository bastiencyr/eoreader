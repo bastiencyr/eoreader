{
 "cells": [
  {
   "cell_type": "markdown",
   "id": "1a8ab2e1",
   "metadata": {},
   "source": [
    "# DASK\n",
    "Let's use EOReader with Dask.\n",
    "\n",
    "<div class=\"alert alert-info\">\n",
    "  \n",
    "<strong>Note:</strong> This is experimental for now, use it at your own risk !\n",
    "    \n",
    "</div>"
   ]
  },
  {
   "cell_type": "code",
   "execution_count": 1,
   "id": "fb4d6b22",
   "metadata": {
    "pycharm": {
     "name": "#%%\n"
    }
   },
   "outputs": [],
   "source": [
    "# Imports\n",
    "import os\n",
    "from eoreader.reader import Reader\n",
    "from eoreader.bands.alias import *\n",
    "from eoreader.env_vars import USE_DASK\n",
    "\n",
    "os.environ[USE_DASK] = \"1\"\n",
    "from dask.distributed import Client, LocalCluster\n",
    "\n",
    "with LocalCluster(\n",
    "        n_workers=4, threads_per_worker=4, processes=True\n",
    ") as cluster, Client(cluster):\n",
    "    # Create the reader\n",
    "    eoreader = Reader()\n",
    "\n",
    "    # Open your product\n",
    "    path = os.path.abspath(\"LM05_L1TP_200029_19841014_20200902_02_T2.tar\")\n",
    "    prod = eoreader.open(path)\n",
    "\n",
    "    # Load this band\n",
    "    band_dict = prod.load([MNDWI, CLOUDS])"
   ]
  }
 ],
 "metadata": {
  "kernelspec": {
   "display_name": "Python 3",
   "language": "python",
   "name": "python3"
  },
  "language_info": {
   "codemirror_mode": {
    "name": "ipython",
    "version": 3
   },
   "file_extension": ".py",
   "mimetype": "text/x-python",
   "name": "python",
   "nbconvert_exporter": "python",
   "pygments_lexer": "ipython3",
   "version": "3.7.0"
  }
 },
 "nbformat": 4,
 "nbformat_minor": 5
}