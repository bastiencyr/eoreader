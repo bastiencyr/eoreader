{
 "cells": [
  {
   "cell_type": "markdown",
   "id": "1a8ab2e1",
   "metadata": {
    "pycharm": {
     "name": "#%% md\n"
    }
   },
   "source": [
    "# STAC\n",
    "Let's use EOReader to create [SpatioTemporal Asset Catalog (STAC)](https://stacspec.org/) items.\n",
    "\n",
    "<div class=\"alert alert-info\">\n",
    "  \n",
    "   <strong>Note:</strong> This is experimental for now, use it at your own risk !\n",
    "    \n",
    "</div>\n",
    "\n",
    "<div class=\"alert alert-warning\">\n",
    "  \n",
    "<strong>Warning:</strong>\n",
    "You will need to install <a href=\"https://pystac.readthedocs.io/en/stable/\"><code>pystac[validation]</code></a>,\n",
    "<a href=\"https://python-visualization.github.io/folium/\"><code>folium</code></a>\n",
    "and <a href=\"https://eodag.readthedocs.io/en/stable/\"><code>eodag</code></a> (version != 2.6.0) to run this notebook\n",
    "    \n",
    "</div>"
   ]
  },
  {
   "cell_type": "markdown",
   "id": "f8c3f849",
   "metadata": {},
   "source": [
    "## Imports"
   ]
  },
  {
   "cell_type": "code",
   "execution_count": 1,
   "id": "24919c6c",
   "metadata": {
    "pycharm": {
     "name": "#%%\n"
    },
    "scrolled": true
   },
   "outputs": [],
   "source": [
    "# Imports\n",
    "import os\n",
    "import logging\n",
    "\n",
    "import pystac\n",
    "import geopandas as gpd\n",
    "from tempfile import TemporaryDirectory\n",
    "from shapely.geometry import mapping\n",
    "\n",
    "from eodag import setup_logging\n",
    "from eodag.api.core import EODataAccessGateway\n",
    "\n",
    "from eoreader.reader import Reader\n",
    "from eoreader.stac import OPTICAL_STAC_EXTENSIONS"
   ]
  },
  {
   "cell_type": "markdown",
   "id": "ac4f9267",
   "metadata": {},
   "source": [
    "## Create logger"
   ]
  },
  {
   "cell_type": "code",
   "execution_count": 2,
   "id": "67d01536",
   "metadata": {
    "pycharm": {
     "name": "#%%\n"
    },
    "scrolled": true
   },
   "outputs": [],
   "source": [
    "logger = logging.getLogger(\"eoreader\")\n",
    "logger.setLevel(logging.INFO)\n",
    "\n",
    "# create console handler and set level to debug\n",
    "ch = logging.StreamHandler()\n",
    "ch.setLevel(logging.INFO)\n",
    "\n",
    "# create formatter\n",
    "formatter = logging.Formatter('%(message)s')\n",
    "\n",
    "# add formatter to ch\n",
    "ch.setFormatter(formatter)\n",
    "\n",
    "# add ch to logger\n",
    "logger.addHandler(ch)"
   ]
  },
  {
   "cell_type": "markdown",
   "id": "5f1d458f",
   "metadata": {},
   "source": [
    "## Linking some data \n",
    "\n",
    "Let's take 3 products covering approximately the same area (over DAX city in France):\n",
    "- One Landsat-8 OLI-TIRS collection 2\n",
    "- One Landsat-5 TM collection 2\n",
    "- One Sentinel-2 L1C"
   ]
  },
  {
   "cell_type": "code",
   "execution_count": 3,
   "id": "8cf0171b",
   "metadata": {
    "pycharm": {
     "name": "#%%\n"
    },
    "scrolled": true
   },
   "outputs": [],
   "source": [
    "prod_folder = os.path.join(\"/home\", \"data\", \"DATA\", \"PRODS\")\n",
    "paths = [\n",
    "    # Landsat-8 OLI-TIRS collection 2\n",
    "    os.path.join(prod_folder, \"LANDSATS_COL2\", \"LC08_L1TP_200030_20201220_20210310_02_T1.tar\"),\n",
    "    # Landsat-5 TM collection 2    \n",
    "    os.path.join(prod_folder, \"LANDSATS_COL2\", \"LT05_L1TP_200030_20111110_20200820_02_T1.tar\"),\n",
    "    # Sentinel-2 L2A\n",
    "    os.path.join(prod_folder, \"S2\", \"PB 02.07+\", \"S2A_MSIL1C_20191215T110441_N0208_R094_T30TXP_20191215T114155.SAFE\"),\n",
    "]"
   ]
  },
  {
   "cell_type": "markdown",
   "id": "84ac5591",
   "metadata": {},
   "source": [
    "## Create STAC catalog\n",
    "Create a STAC catalog and add 3 STAC items to it."
   ]
  },
  {
   "cell_type": "code",
   "execution_count": 4,
   "id": "00924896",
   "metadata": {
    "pycharm": {
     "name": "#%%\n"
    },
    "scrolled": true
   },
   "outputs": [],
   "source": [
    "# Create the reader\n",
    "reader = Reader()\n",
    "\n",
    "# Work in a temporary directory\n",
    "tmp = TemporaryDirectory()"
   ]
  },
  {
   "cell_type": "code",
   "execution_count": 5,
   "id": "8bd49e91",
   "metadata": {},
   "outputs": [],
   "source": [
    "# Create STAC catalog\n",
    "catalog_path = os.path.join(tmp.name, \"catalog.json\")\n",
    "catalog = pystac.Catalog(\n",
    "    id='SERTIT_101',\n",
    "    description=\"SERTIT's Catalog\",\n",
    "    title='SERTIT Catalog',\n",
    "    stac_extensions=OPTICAL_STAC_EXTENSIONS,\n",
    "    href=catalog_path\n",
    ")"
   ]
  },
  {
   "cell_type": "code",
   "execution_count": 6,
   "id": "e6ca3360",
   "metadata": {},
   "outputs": [
    {
     "name": "stderr",
     "output_type": "stream",
     "text": [
      "*** LC08_L1TP_200030_20201220_20210310_02_T1.tar ***\n",
      "No quicklook found in 20201220T104856_L8_200030_OLI_TIRS\n",
      "*** LT05_L1TP_200030_20111110_20200820_02_T1.tar ***\n",
      "*** S2A_MSIL1C_20191215T110441_N0208_R094_T30TXP_20191215T114155.SAFE ***\n",
      "No quicklook found in 20191215T110441_S2_T30TXP_L1C_114155\n"
     ]
    }
   ],
   "source": [
    "# Add all the products into the STAC catalog\n",
    "for path in paths:\n",
    "    logger.info(f\"*** {os.path.basename(path)} ***\")\n",
    "\n",
    "    # Open the product\n",
    "    prod = reader.open(path, remove_tmp=True)\n",
    "\n",
    "    # Get item\n",
    "    item = prod.stac.create_item()\n",
    "\n",
    "    # Add item to catalogue\n",
    "    catalog.add_item(item)"
   ]
  },
  {
   "cell_type": "code",
   "execution_count": 7,
   "id": "f7d3863d",
   "metadata": {},
   "outputs": [
    {
     "data": {
      "text/plain": [
       "STAC Item attributes:\n",
       "\tid: 20191215T110441_S2_T30TXP_L1C_114155\n",
       "\tconstellation: sentinel-2\n",
       "\tgsd: 10.0\n",
       "\tdatetime: 2019-12-15 11:04:41\n",
       "\tgeometry:\n",
       "\t\t{'coordinates': (((-1.7679672999632903, 43.25815531863286, 0.0),\n",
       "\t\t                  (-1.747519127782274, 44.24655093448751, 0.0),\n",
       "\t\t                  (-0.3733540263, 44.22320973997534, 0.0),\n",
       "\t\t                  (-0.416191720429816, 43.23560095969715, 0.0),\n",
       "\t\t                  (-1.7679672999632903, 43.25815531863286, 0.0)),),\n",
       "\t\t 'type': 'Polygon'}\n",
       "\tbbox: \n",
       "\t\t[-1.7679672999632903, 43.23560095969715, -0.3733540263, 44.24655093448751]\n",
       "\tstac_extensions: \n",
       "\t\t['https://stac-extensions.github.io/eo/v1.0.0/schema.json',\n",
       "\t\t 'https://stac-extensions.github.io/projection/v1.0.0/schema.json',\n",
       "\t\t 'https://stac-extensions.github.io/view/v1.0.0/schema.json']\n",
       "\tproperties - tilename: T30TXP\n",
       "\n",
       "\tElectro-Optical STAC Extension attributes:\n",
       "\t\teo:cloud_cover: 0.6668\n",
       "\t\teo:bands:\n",
       "\t\t\tCOASTAL_AEROSOL:\n",
       "\t\t\t\t01\n",
       "\t\t\t\tcoastal\n",
       "\t\t\tBLUE:\n",
       "\t\t\t\t02\n",
       "\t\t\t\tblue\n",
       "\t\t\tGREEN:\n",
       "\t\t\t\t03\n",
       "\t\t\t\tgreen\n",
       "\t\t\tRED:\n",
       "\t\t\t\t04\n",
       "\t\t\t\tred\n",
       "\t\t\tVEGETATION_RED_EDGE_1:\n",
       "\t\t\t\t05\n",
       "\t\t\t\trededge\n",
       "\t\t\tVEGETATION_RED_EDGE_2:\n",
       "\t\t\t\t06\n",
       "\t\t\t\trededge\n",
       "\t\t\tVEGETATION_RED_EDGE_3:\n",
       "\t\t\t\t07\n",
       "\t\t\t\trededge\n",
       "\t\t\tNIR:\n",
       "\t\t\t\t8A\n",
       "\t\t\t\tnir\n",
       "\t\t\tNARROW_NIR:\n",
       "\t\t\t\t08\n",
       "\t\t\t\tnir08\n",
       "\t\t\tWATER_VAPOUR:\n",
       "\t\t\t\t09\n",
       "\t\t\t\tnir09\n",
       "\t\t\tCIRRUS:\n",
       "\t\t\t\t10\n",
       "\t\t\t\tcirrus\n",
       "\t\t\tSWIR_1:\n",
       "\t\t\t\t11\n",
       "\t\t\t\tswir16\n",
       "\t\t\tSWIR_2:\n",
       "\t\t\t\t12\n",
       "\t\t\t\tswir22\n",
       "\tProjection STAC Extension attributes:\n",
       "\t\tproj:epsg: 32630\n",
       "\t\tproj:geometry: \n",
       "\t\t\t{'coordinates': (((600000.0, 4790220.0, 0.0),\n",
       "\t\t\t                  (600000.0, 4900020.0, 0.0),\n",
       "\t\t\t                  (709800.0, 4900020.0, 0.0),\n",
       "\t\t\t                  (709800.0, 4790220.0, 0.0),\n",
       "\t\t\t                  (600000.0, 4790220.0, 0.0)),),\n",
       "\t\t\t 'type': 'Polygon'}\n",
       "\t\tproj:bbox: \n",
       "\t\t\t[600000.0, 4790220.0, 709800.0, 4900020.0]\n",
       "\t\tproj:centroid: \n",
       "\t\t\t{'lat': 43.74293327815072, 'lon': -1.0762579548348727}\n",
       "\t\tproj:shape: [10980, 10980]\n",
       "\t\tproj:transform: \n",
       "\t\t\tAffine(10.0, 0.0, 600000.0,\n",
       "\t\t\t       0.0, -10.0, 4900020.0)\n",
       "\tView STAC Extension attributes:\n",
       "\t\tview:sun_azimuth: 167.543494280222\n",
       "\t\tview:sun_elevation: 67.991496343423"
      ]
     },
     "execution_count": 7,
     "metadata": {},
     "output_type": "execute_result"
    }
   ],
   "source": [
    "# See of what the STAC object of the last product is composed\n",
    "prod.stac"
   ]
  },
  {
   "cell_type": "code",
   "execution_count": 8,
   "id": "ed7e59bd",
   "metadata": {
    "scrolled": false
   },
   "outputs": [
    {
     "name": "stdout",
     "output_type": "stream",
     "text": [
      "* <Catalog id=SERTIT_101>\n",
      "  * <Item id=20201220T104856_L8_200030_OLI_TIRS>\n",
      "  * <Item id=20111110T103612_L5_200030_TM>\n",
      "  * <Item id=20191215T110441_S2_T30TXP_L1C_114155>\n"
     ]
    }
   ],
   "source": [
    "# Save catalog\n",
    "catalog.describe()\n",
    "catalog.normalize_and_save(tmp.name, catalog_type=pystac.CatalogType.SELF_CONTAINED)"
   ]
  },
  {
   "cell_type": "markdown",
   "id": "82087c67",
   "metadata": {},
   "source": [
    "# Query the catalog\n",
    "\n",
    "`EODAG` is an opensource python library that implements STAC and allows you to query your local STAC catalog.  \n",
    "Look at [here](https://eodag.readthedocs.io/en/stable/notebooks/tutos/tuto_stac_client.html) for a detailed tutorial."
   ]
  },
  {
   "cell_type": "code",
   "execution_count": 9,
   "id": "06c820bf",
   "metadata": {
    "scrolled": true
   },
   "outputs": [
    {
     "name": "stderr",
     "output_type": "stream",
     "text": [
      "2022-05-12 07:18:57,656-15s eodag.config                     [INFO    ] stac_http_provider: unknown provider found in user conf, trying to use provided configuration\n"
     ]
    }
   ],
   "source": [
    "# Create an EODAG custom STAC provider\n",
    "dag = EODataAccessGateway()\n",
    "\n",
    "# Set EODAG logging level to INFO\n",
    "setup_logging(verbose=2)\n",
    "\n",
    "# Add the custom STAC provider, exactly like in the tutorial mentioned above\n",
    "dag.update_providers_config(\"\"\"\n",
    "stac_http_provider:\n",
    "    search:\n",
    "        type: StaticStacSearch\n",
    "        api_endpoint: %s\n",
    "    products:\n",
    "        GENERIC_PRODUCT_TYPE:\n",
    "            productType: '{productType}'\n",
    "    download:\n",
    "        type: HTTPDownload\n",
    "        base_uri: %s\n",
    "        flatten_top_dirs: True\n",
    "        outputs_prefix: %s\n",
    "\"\"\" % (catalog_path, tmp.name, tmp.name))\n",
    "\n",
    "# Set the custom STAC provider as preferred\n",
    "dag.set_preferred_provider(\"stac_http_provider\")"
   ]
  },
  {
   "cell_type": "code",
   "execution_count": 10,
   "id": "eba4756e",
   "metadata": {
    "scrolled": true
   },
   "outputs": [
    {
     "name": "stderr",
     "output_type": "stream",
     "text": [
      "2022-05-12 07:18:57,752-15s eodag.core                       [INFO    ] No product type could be guessed with provided arguments\n",
      "2022-05-12 07:18:58,376-15s eodag.core                       [INFO    ] Searching product type 'None' on provider: stac_http_provider\n",
      "2022-05-12 07:18:58,485-15s eodag.plugins.crunch.filter_overlap [WARNING ] geometry not found in cruncher arguments, filtering disabled.\n",
      "2022-05-12 07:18:58,489-15s eodag.core                       [INFO    ] Found 3 result(s) on provider 'stac_http_provider'\n"
     ]
    }
   ],
   "source": [
    "# Query every product from inside the catalog\n",
    "all_products, _ = dag.search()"
   ]
  },
  {
   "cell_type": "code",
   "execution_count": 11,
   "id": "7160fd0e",
   "metadata": {
    "scrolled": false
   },
   "outputs": [
    {
     "name": "stderr",
     "output_type": "stream",
     "text": [
      "2022-05-12 07:18:58,508-15s eodag.core                       [INFO    ] No product type could be guessed with provided arguments\n",
      "2022-05-12 07:18:58,509-15s eodag.core                       [INFO    ] Searching product type 'None' on provider: stac_http_provider\n",
      "2022-05-12 07:18:58,620-15s eodag.plugins.crunch.filter_date [INFO    ] Finished filtering products. 1 resulting products\n",
      "2022-05-12 07:18:58,621-15s eodag.plugins.crunch.filter_overlap [INFO    ] Finished filtering products. 1 resulting products\n",
      "2022-05-12 07:18:58,623-15s eodag.core                       [INFO    ] Found 1 result(s) on provider 'stac_http_provider'\n"
     ]
    }
   ],
   "source": [
    "# Load an AOI\n",
    "aoi_path = os.path.join(\"/home\", \"data\", \"DATA\", \"AOIs\", \"DAX.geojson\")\n",
    "aoi = gpd.read_file(aoi_path)\n",
    "aoi_geojson = mapping(aoi.geometry.values[0])\n",
    "\n",
    "# Query spatially with the AOI and temporally with a time period\n",
    "query_args = {\"start\": \"2020-05-01\", \"end\": \"2022-05-06\", \"geom\": aoi.geometry.values[0]}\n",
    "query_products, _ = dag.search(**query_args)"
   ]
  },
  {
   "cell_type": "code",
   "execution_count": 12,
   "id": "b2ff187f",
   "metadata": {},
   "outputs": [
    {
     "data": {
      "text/plain": [
       "EOProduct(id=20201220T104856_L8_200030_OLI_TIRS, provider=stac_http_provider)"
      ]
     },
     "execution_count": 12,
     "metadata": {},
     "output_type": "execute_result"
    }
   ],
   "source": [
    "query_products[0]"
   ]
  },
  {
   "cell_type": "code",
   "execution_count": 13,
   "id": "4e52cc30",
   "metadata": {
    "scrolled": true
   },
   "outputs": [
    {
     "data": {
      "text/plain": [
       "{'href': 'tar+file:///home/data/DATA/PRODS/LANDSATS_COL2/LC08_L1TP_200030_20201220_20210310_02_T1.tar!LC08_L1TP_200030_20201220_20210310_02_T1_B2.TIF',\n",
       " 'type': 'image/tiff; application=geotiff',\n",
       " 'title': 'Blue',\n",
       " 'description': 'Bathymetric mapping, distinguishing soil from vegetation and deciduous from coniferous vegetation',\n",
       " 'eoreader_name': 'BLUE',\n",
       " 'eo:bands': [{'name': 'Blue',\n",
       "   'common_name': 'blue',\n",
       "   'description': 'Bathymetric mapping, distinguishing soil from vegetation and deciduous from coniferous vegetation',\n",
       "   'center_wavelength': 0.48,\n",
       "   'full_width_half_max': 0.06}],\n",
       " 'created': '2022-05-12T07:18:53.175119Z',\n",
       " 'constellation': 'landsat-8',\n",
       " 'gsd': 30,\n",
       " 'roles': ['reflectance']}"
      ]
     },
     "execution_count": 13,
     "metadata": {},
     "output_type": "execute_result"
    }
   ],
   "source": [
    "query_products[0].assets['Blue']"
   ]
  },
  {
   "cell_type": "markdown",
   "id": "dfa163fc",
   "metadata": {},
   "source": [
    "## Display the results\n",
    "\n",
    "We can use `folium` to display the results geometry over a map."
   ]
  },
  {
   "cell_type": "code",
   "execution_count": 14,
   "id": "280fef1d",
   "metadata": {
    "scrolled": false
   },
   "outputs": [
    {
     "data": {
      "text/html": [
       "<div style=\"width:100%;\"><div style=\"position:relative;width:100%;height:0;padding-bottom:60%;\"><span style=\"color:#565656\">Make this Notebook Trusted to load map: File -> Trust Notebook</span><iframe srcdoc=\"&lt;!DOCTYPE html&gt;\n",
       "&lt;head&gt;    \n",
       "    &lt;meta http-equiv=&quot;content-type&quot; content=&quot;text/html; charset=UTF-8&quot; /&gt;\n",
       "    \n",
       "        &lt;script&gt;\n",
       "            L_NO_TOUCH = false;\n",
       "            L_DISABLE_3D = false;\n",
       "        &lt;/script&gt;\n",
       "    \n",
       "    &lt;style&gt;html, body {width: 100%;height: 100%;margin: 0;padding: 0;}&lt;/style&gt;\n",
       "    &lt;style&gt;#map {position:absolute;top:0;bottom:0;right:0;left:0;}&lt;/style&gt;\n",
       "    &lt;script src=&quot;https://cdn.jsdelivr.net/npm/leaflet@1.6.0/dist/leaflet.js&quot;&gt;&lt;/script&gt;\n",
       "    &lt;script src=&quot;https://code.jquery.com/jquery-1.12.4.min.js&quot;&gt;&lt;/script&gt;\n",
       "    &lt;script src=&quot;https://maxcdn.bootstrapcdn.com/bootstrap/3.2.0/js/bootstrap.min.js&quot;&gt;&lt;/script&gt;\n",
       "    &lt;script src=&quot;https://cdnjs.cloudflare.com/ajax/libs/Leaflet.awesome-markers/2.0.2/leaflet.awesome-markers.js&quot;&gt;&lt;/script&gt;\n",
       "    &lt;link rel=&quot;stylesheet&quot; href=&quot;https://cdn.jsdelivr.net/npm/leaflet@1.6.0/dist/leaflet.css&quot;/&gt;\n",
       "    &lt;link rel=&quot;stylesheet&quot; href=&quot;https://maxcdn.bootstrapcdn.com/bootstrap/3.2.0/css/bootstrap.min.css&quot;/&gt;\n",
       "    &lt;link rel=&quot;stylesheet&quot; href=&quot;https://maxcdn.bootstrapcdn.com/bootstrap/3.2.0/css/bootstrap-theme.min.css&quot;/&gt;\n",
       "    &lt;link rel=&quot;stylesheet&quot; href=&quot;https://maxcdn.bootstrapcdn.com/font-awesome/4.6.3/css/font-awesome.min.css&quot;/&gt;\n",
       "    &lt;link rel=&quot;stylesheet&quot; href=&quot;https://cdnjs.cloudflare.com/ajax/libs/Leaflet.awesome-markers/2.0.2/leaflet.awesome-markers.css&quot;/&gt;\n",
       "    &lt;link rel=&quot;stylesheet&quot; href=&quot;https://cdn.jsdelivr.net/gh/python-visualization/folium/folium/templates/leaflet.awesome.rotate.min.css&quot;/&gt;\n",
       "    \n",
       "            &lt;meta name=&quot;viewport&quot; content=&quot;width=device-width,\n",
       "                initial-scale=1.0, maximum-scale=1.0, user-scalable=no&quot; /&gt;\n",
       "            &lt;style&gt;\n",
       "                #map_cdde159f4b36e1c59d9a58235adfa74c {\n",
       "                    position: relative;\n",
       "                    width: 100.0%;\n",
       "                    height: 100.0%;\n",
       "                    left: 0.0%;\n",
       "                    top: 0.0%;\n",
       "                }\n",
       "            &lt;/style&gt;\n",
       "        \n",
       "&lt;/head&gt;\n",
       "&lt;body&gt;    \n",
       "    \n",
       "            &lt;div class=&quot;folium-map&quot; id=&quot;map_cdde159f4b36e1c59d9a58235adfa74c&quot; &gt;&lt;/div&gt;\n",
       "        \n",
       "&lt;/body&gt;\n",
       "&lt;script&gt;    \n",
       "    \n",
       "            var map_cdde159f4b36e1c59d9a58235adfa74c = L.map(\n",
       "                &quot;map_cdde159f4b36e1c59d9a58235adfa74c&quot;,\n",
       "                {\n",
       "                    center: [43.2, -1.05],\n",
       "                    crs: L.CRS.EPSG3857,\n",
       "                    zoom: 7,\n",
       "                    zoomControl: true,\n",
       "                    preferCanvas: false,\n",
       "                }\n",
       "            );\n",
       "\n",
       "            \n",
       "\n",
       "        \n",
       "    \n",
       "            var tile_layer_f6a57712a3c84a73d86f15d6b18081a5 = L.tileLayer(\n",
       "                &quot;https://{s}.tile.openstreetmap.org/{z}/{x}/{y}.png&quot;,\n",
       "                {&quot;attribution&quot;: &quot;Data by \\u0026copy; \\u003ca href=\\&quot;http://openstreetmap.org\\&quot;\\u003eOpenStreetMap\\u003c/a\\u003e, under \\u003ca href=\\&quot;http://www.openstreetmap.org/copyright\\&quot;\\u003eODbL\\u003c/a\\u003e.&quot;, &quot;detectRetina&quot;: false, &quot;maxNativeZoom&quot;: 18, &quot;maxZoom&quot;: 18, &quot;minZoom&quot;: 0, &quot;noWrap&quot;: false, &quot;opacity&quot;: 1, &quot;subdomains&quot;: &quot;abc&quot;, &quot;tms&quot;: false}\n",
       "            ).addTo(map_cdde159f4b36e1c59d9a58235adfa74c);\n",
       "        \n",
       "    \n",
       "        function geo_json_47a9a99a8e2f836134b1d81b48170b14_styler(feature) {\n",
       "            switch(feature.id) {\n",
       "                default:\n",
       "                    return {&quot;color&quot;: &quot;green&quot;};\n",
       "            }\n",
       "        }\n",
       "\n",
       "        function geo_json_47a9a99a8e2f836134b1d81b48170b14_onEachFeature(feature, layer) {\n",
       "            layer.on({\n",
       "            });\n",
       "        };\n",
       "        var geo_json_47a9a99a8e2f836134b1d81b48170b14 = L.geoJson(null, {\n",
       "                onEachFeature: geo_json_47a9a99a8e2f836134b1d81b48170b14_onEachFeature,\n",
       "            \n",
       "                style: geo_json_47a9a99a8e2f836134b1d81b48170b14_styler,\n",
       "        });\n",
       "\n",
       "        function geo_json_47a9a99a8e2f836134b1d81b48170b14_add (data) {\n",
       "            geo_json_47a9a99a8e2f836134b1d81b48170b14\n",
       "                .addData(data)\n",
       "                .addTo(map_cdde159f4b36e1c59d9a58235adfa74c);\n",
       "        }\n",
       "            geo_json_47a9a99a8e2f836134b1d81b48170b14_add({&quot;features&quot;: [{&quot;geometry&quot;: {&quot;coordinates&quot;: [[[-0.44251217439992657, 42.2127522210586], [-0.4468475347696471, 42.213389186873876], [-0.48332806452281685, 42.219058822134905], [-2.4523327917187623, 42.50663388537456], [-2.5935217786038103, 42.52586369961971], [-2.6979193006138096, 42.539965340345574], [-2.7388151460073664, 42.54546932980728], [-2.752315873612492, 42.55009226226342], [-2.7523126689881106, 42.55090277668728], [-2.2525292851969425, 44.112007689183024], [-2.2466833578947325, 44.129525713194], [-2.245537819228817, 44.131138743801436], [-2.2451593991530348, 44.13140634235107], [-2.243659472713096, 44.13139642182425], [-2.2391666327552024, 44.13082639167126], [-2.128756906958314, 44.1159925939649], [-1.6414001311947637, 44.049113263217066], [-0.9527297703414418, 43.95079355964809], [-0.6178513381411604, 43.901353992639905], [-0.08019163314929245, 43.819727365243736], [0.07487501341659746, 43.79566958207157], [0.0978081943217188, 43.79207861097162], [0.12543770938015855, 43.78565359263217], [0.12538144495663353, 43.78457474069645], [0.12448220287278945, 43.78162827273013], [0.10928483661174725, 43.74017778475874], [0.0906505139900679, 43.68936452402767], [0.05609201199957675, 43.59521811213906], [0.00963698894372331, 43.46842047776484], [-0.1017051812114841, 43.16336600048933], [-0.12628251941390242, 43.09564509434821], [-0.43562932463244797, 42.23015905075416], [-0.44178599033057975, 42.21273601775331], [-0.44251217439992657, 42.2127522210586]]], &quot;type&quot;: &quot;Polygon&quot;}, &quot;id&quot;: &quot;20111110T103612_L5_200030_TM&quot;, &quot;properties&quot;: {&quot;abstract&quot;: null, &quot;cloudCover&quot;: 19.0, &quot;creationDate&quot;: &quot;2022-05-12T07:18:55.364490Z&quot;, &quot;downloadLink&quot;: &quot;/tmp/tmpuv326375/collections/Not Available/items/20111110T103612_L5_200030_TM&quot;, &quot;eodag_product_type&quot;: null, &quot;eodag_provider&quot;: &quot;stac_http_provider&quot;, &quot;eodag_search_intersection&quot;: {&quot;coordinates&quot;: [[[-0.44251217439992657, 42.2127522210586], [-0.4468475347696471, 42.213389186873876], [-0.48332806452281685, 42.219058822134905], [-2.4523327917187623, 42.50663388537456], [-2.5935217786038103, 42.52586369961971], [-2.6979193006138096, 42.539965340345574], [-2.7388151460073664, 42.54546932980728], [-2.752315873612492, 42.55009226226342], [-2.7523126689881106, 42.55090277668728], [-2.2525292851969425, 44.112007689183024], [-2.2466833578947325, 44.129525713194], [-2.245537819228817, 44.131138743801436], [-2.2451593991530348, 44.13140634235107], [-2.243659472713096, 44.13139642182425], [-2.2391666327552024, 44.13082639167126], [-2.128756906958314, 44.1159925939649], [-1.6414001311947637, 44.049113263217066], [-0.9527297703414418, 43.95079355964809], [-0.6178513381411604, 43.901353992639905], [-0.08019163314929245, 43.819727365243736], [0.07487501341659746, 43.79566958207157], [0.0978081943217188, 43.79207861097162], [0.12543770938015855, 43.78565359263217], [0.12538144495663353, 43.78457474069645], [0.12448220287278945, 43.78162827273013], [0.10928483661174725, 43.74017778475874], [0.0906505139900679, 43.68936452402767], [0.05609201199957675, 43.59521811213906], [0.00963698894372331, 43.46842047776484], [-0.1017051812114841, 43.16336600048933], [-0.12628251941390242, 43.09564509434821], [-0.43562932463244797, 42.23015905075416], [-0.44178599033057975, 42.21273601775331], [-0.44251217439992657, 42.2127522210586]]], &quot;type&quot;: &quot;Polygon&quot;}, &quot;illuminationAzimuthAngle&quot;: 160.28844516, &quot;illuminationElevationAngle&quot;: 62.5684782, &quot;instrument&quot;: null, &quot;keywords&quot;: null, &quot;license&quot;: null, &quot;missionStartDate&quot;: null, &quot;platform&quot;: &quot;landsat-5&quot;, &quot;platformSerialIdentifier&quot;: null, &quot;processingLevel&quot;: null, &quot;productType&quot;: null, &quot;proj:bbox&quot;: [515985.0, 4674285.0, 755715.0, 4888215.0], &quot;proj:centroid&quot;: {&quot;lat&quot;: 43.17634688001888, &quot;lon&quot;: -1.3281365439222284}, &quot;proj:epsg&quot;: 32630, &quot;proj:geometry&quot;: {&quot;coordinates&quot;: [[[711105.0, 4676565.0], [710745.0, 4676625.0], [707715.0, 4677165.0], [544995.0, 4706175.0], [533385.0, 4708245.0], [524805.0, 4709775.0], [521445.0, 4710375.0], [520335.0, 4710885.0], [520335.0, 4710975.0], [559815.0, 4884585.0], [560265.0, 4886535.0], [560355.0, 4886715.0], [560385.0, 4886745.0], [560505.0, 4886745.0], [560865.0, 4886685.0], [569715.0, 4885125.0], [608835.0, 4878225.0], [664275.0, 4868445.0], [691305.0, 4863675.0], [734805.0, 4855995.0], [747375.0, 4853775.0], [749235.0, 4853445.0], [751485.0, 4852815.0], [751485.0, 4852695.0], [751425.0, 4852365.0], [750375.0, 4847715.0], [749085.0, 4842015.0], [746685.0, 4831455.0], [743445.0, 4817235.0], [735615.0, 4783035.0], [733875.0, 4775445.0], [711615.0, 4678515.0], [711165.0, 4676565.0], [711105.0, 4676565.0]]], &quot;type&quot;: &quot;Polygon&quot;}, &quot;proj:shape&quot;: [7131, 7991], &quot;proj:transform&quot;: [30.0, 0.0, 515985.0, 0.0, -30.0, 4888215.0, 0.0, 0.0, 1.0], &quot;proj:wkt2&quot;: &quot;PROJCS[\\&quot;WGS 84 / UTM zone 30N\\&quot;,GEOGCS[\\&quot;WGS 84\\&quot;,DATUM[\\&quot;WGS_1984\\&quot;,SPHEROID[\\&quot;WGS 84\\&quot;,6378137,298.257223563,AUTHORITY[\\&quot;EPSG\\&quot;,\\&quot;7030\\&quot;]],AUTHORITY[\\&quot;EPSG\\&quot;,\\&quot;6326\\&quot;]],PRIMEM[\\&quot;Greenwich\\&quot;,0,AUTHORITY[\\&quot;EPSG\\&quot;,\\&quot;8901\\&quot;]],UNIT[\\&quot;degree\\&quot;,0.0174532925199433,AUTHORITY[\\&quot;EPSG\\&quot;,\\&quot;9122\\&quot;]],AUTHORITY[\\&quot;EPSG\\&quot;,\\&quot;4326\\&quot;]],PROJECTION[\\&quot;Transverse_Mercator\\&quot;],PARAMETER[\\&quot;latitude_of_origin\\&quot;,0],PARAMETER[\\&quot;central_meridian\\&quot;,-3],PARAMETER[\\&quot;scale_factor\\&quot;,0.9996],PARAMETER[\\&quot;false_easting\\&quot;,500000],PARAMETER[\\&quot;false_northing\\&quot;,0],UNIT[\\&quot;metre\\&quot;,1,AUTHORITY[\\&quot;EPSG\\&quot;,\\&quot;9001\\&quot;]],AXIS[\\&quot;Easting\\&quot;,EAST],AXIS[\\&quot;Northing\\&quot;,NORTH],AUTHORITY[\\&quot;EPSG\\&quot;,\\&quot;32630\\&quot;]]&quot;, &quot;resolution&quot;: 30.0, &quot;sensorType&quot;: null, &quot;startTimeFromAscendingNode&quot;: &quot;2011-11-10T10:36:12Z&quot;, &quot;storageStatus&quot;: &quot;ONLINE&quot;, &quot;thumbnail&quot;: &quot;tar+file:///home/data/DATA/PRODS/LANDSATS_COL2/LT05_L1TP_200030_20111110_20200820_02_T1.tar!LT05_L1TP_200030_20111110_20200820_02_T1_thumb_large.jpeg&quot;, &quot;tilename&quot;: &quot;200030&quot;, &quot;title&quot;: &quot;20111110T103612_L5_200030_TM&quot;}, &quot;type&quot;: &quot;Feature&quot;}, {&quot;geometry&quot;: {&quot;coordinates&quot;: [[[-0.5257721442427716, 42.11867021947156], [-0.53513640800301, 42.120492891025584], [-0.6947690400264263, 42.15164048628753], [-1.4127880648104656, 42.28864791606437], [-2.6808583122777816, 42.518305124564385], [-2.712242059444966, 42.523791726024534], [-2.7184464223068505, 42.524887836833244], [-2.719906233168643, 42.52516158897307], [-2.720635541529546, 42.525433544066345], [-2.720630726301183, 42.526514231852744], [-2.7202594350822302, 42.52786420023843], [-2.7176648128543817, 42.53623324954717], [-2.169091178236048, 44.23405498280795], [-2.1679148250686007, 44.23755763269748], [-2.167523945041018, 44.238635157453494], [-2.1671482900725656, 44.23863241913889], [-2.160401872211217, 44.23750265848751], [-2.1487840927522264, 44.23552602264769], [-2.080967686499834, 44.22392670072793], [-1.9173469656964803, 44.19575376924487], [-0.5389745349691696, 43.948029298314694], [0.08852945578784056, 43.829063241061384], [0.09148216498872173, 43.828443135837155], [0.09144036204853527, 43.827633976897175], [0.08969944706596057, 43.82281935419817], [0.07278964438778793, 43.77681882314969], [0.07062444021986937, 43.7709348921475], [0.044250999738701065, 43.69925410652834], [0.03519076985731035, 43.674645853503], [-0.0013956191453797012, 43.57513331934392], [-0.01298797638838677, 43.543564389891124], [-0.03184757736291297, 43.4921950647179], [-0.04853306393917747, 43.4467085044555], [-0.17430296264350253, 43.10143406279936], [-0.5164412323805064, 42.14386431506819], [-0.5237909963149087, 42.12295015525844], [-0.5254095665105432, 42.11866239601142], [-0.5257721442427716, 42.11867021947156]]], &quot;type&quot;: &quot;Polygon&quot;}, &quot;id&quot;: &quot;20201220T104856_L8_200030_OLI_TIRS&quot;, &quot;properties&quot;: {&quot;abstract&quot;: null, &quot;cloudCover&quot;: 16.36, &quot;creationDate&quot;: &quot;2022-05-12T07:18:53.175555Z&quot;, &quot;downloadLink&quot;: &quot;/tmp/tmpuv326375/collections/Not Available/items/20201220T104856_L8_200030_OLI_TIRS&quot;, &quot;eodag_product_type&quot;: &quot;L8_OLI_TIRS_C1L1&quot;, &quot;eodag_provider&quot;: &quot;stac_http_provider&quot;, &quot;eodag_search_intersection&quot;: {&quot;coordinates&quot;: [[[-0.5257721442427716, 42.11867021947156], [-0.53513640800301, 42.120492891025584], [-0.6947690400264263, 42.15164048628753], [-1.4127880648104656, 42.28864791606437], [-2.6808583122777816, 42.518305124564385], [-2.712242059444966, 42.523791726024534], [-2.7184464223068505, 42.524887836833244], [-2.719906233168643, 42.52516158897307], [-2.720635541529546, 42.525433544066345], [-2.720630726301183, 42.526514231852744], [-2.7202594350822302, 42.52786420023843], [-2.7176648128543817, 42.53623324954717], [-2.169091178236048, 44.23405498280795], [-2.1679148250686007, 44.23755763269748], [-2.167523945041018, 44.238635157453494], [-2.1671482900725656, 44.23863241913889], [-2.160401872211217, 44.23750265848751], [-2.1487840927522264, 44.23552602264769], [-2.080967686499834, 44.22392670072793], [-1.9173469656964803, 44.19575376924487], [-0.5389745349691696, 43.948029298314694], [0.08852945578784056, 43.829063241061384], [0.09148216498872173, 43.828443135837155], [0.09144036204853527, 43.827633976897175], [0.08969944706596057, 43.82281935419817], [0.07278964438778793, 43.77681882314969], [0.07062444021986937, 43.7709348921475], [0.044250999738701065, 43.69925410652834], [0.03519076985731035, 43.674645853503], [-0.0013956191453797012, 43.57513331934392], [-0.01298797638838677, 43.543564389891124], [-0.03184757736291297, 43.4921950647179], [-0.04853306393917747, 43.4467085044555], [-0.17430296264350253, 43.10143406279936], [-0.5164412323805064, 42.14386431506819], [-0.5237909963149087, 42.12295015525844], [-0.5254095665105432, 42.11866239601142], [-0.5257721442427716, 42.11867021947156]]], &quot;type&quot;: &quot;Polygon&quot;}, &quot;illuminationAzimuthAngle&quot;: 161.76832577, &quot;illuminationElevationAngle&quot;: 68.76909132, &quot;instrument&quot;: null, &quot;keywords&quot;: null, &quot;license&quot;: null, &quot;missionStartDate&quot;: null, &quot;platform&quot;: &quot;landsat-8&quot;, &quot;platformSerialIdentifier&quot;: null, &quot;processingLevel&quot;: null, &quot;productType&quot;: null, &quot;proj:bbox&quot;: [521085.0, 4664985.0, 751515.0, 4899315.0], &quot;proj:centroid&quot;: {&quot;lat&quot;: 43.183607660455536, &quot;lon&quot;: -1.3295876133318103}, &quot;proj:epsg&quot;: 32630, &quot;proj:geometry&quot;: {&quot;coordinates&quot;: [[[704535.0, 4665915.0], [703755.0, 4666095.0], [690465.0, 4669185.0], [630855.0, 4683045.0], [526215.0, 4707375.0], [523635.0, 4707975.0], [523125.0, 4708095.0], [523005.0, 4708125.0], [522945.0, 4708155.0], [522945.0, 4708275.0], [522975.0, 4708425.0], [523185.0, 4709355.0], [566355.0, 4898205.0], [566445.0, 4898595.0], [566475.0, 4898715.0], [566505.0, 4898715.0], [567045.0, 4898595.0], [567975.0, 4898385.0], [573405.0, 4897155.0], [586515.0, 4894185.0], [697485.0, 4869045.0], [748335.0, 4857525.0], [748575.0, 4857465.0], [748575.0, 4857375.0], [748455.0, 4856835.0], [747285.0, 4851675.0], [747135.0, 4851015.0], [745305.0, 4842975.0], [744675.0, 4840215.0], [742125.0, 4829055.0], [741315.0, 4825515.0], [739995.0, 4819755.0], [738825.0, 4814655.0], [729945.0, 4775955.0], [705225.0, 4668735.0], [704685.0, 4666395.0], [704565.0, 4665915.0], [704535.0, 4665915.0]]], &quot;type&quot;: &quot;Polygon&quot;}, &quot;proj:shape&quot;: [7811, 7681], &quot;proj:transform&quot;: [30.0, 0.0, 521085.0, 0.0, -30.0, 4899315.0, 0.0, 0.0, 1.0], &quot;proj:wkt2&quot;: &quot;PROJCS[\\&quot;WGS 84 / UTM zone 30N\\&quot;,GEOGCS[\\&quot;WGS 84\\&quot;,DATUM[\\&quot;WGS_1984\\&quot;,SPHEROID[\\&quot;WGS 84\\&quot;,6378137,298.257223563,AUTHORITY[\\&quot;EPSG\\&quot;,\\&quot;7030\\&quot;]],AUTHORITY[\\&quot;EPSG\\&quot;,\\&quot;6326\\&quot;]],PRIMEM[\\&quot;Greenwich\\&quot;,0,AUTHORITY[\\&quot;EPSG\\&quot;,\\&quot;8901\\&quot;]],UNIT[\\&quot;degree\\&quot;,0.0174532925199433,AUTHORITY[\\&quot;EPSG\\&quot;,\\&quot;9122\\&quot;]],AUTHORITY[\\&quot;EPSG\\&quot;,\\&quot;4326\\&quot;]],PROJECTION[\\&quot;Transverse_Mercator\\&quot;],PARAMETER[\\&quot;latitude_of_origin\\&quot;,0],PARAMETER[\\&quot;central_meridian\\&quot;,-3],PARAMETER[\\&quot;scale_factor\\&quot;,0.9996],PARAMETER[\\&quot;false_easting\\&quot;,500000],PARAMETER[\\&quot;false_northing\\&quot;,0],UNIT[\\&quot;metre\\&quot;,1,AUTHORITY[\\&quot;EPSG\\&quot;,\\&quot;9001\\&quot;]],AXIS[\\&quot;Easting\\&quot;,EAST],AXIS[\\&quot;Northing\\&quot;,NORTH],AUTHORITY[\\&quot;EPSG\\&quot;,\\&quot;32630\\&quot;]]&quot;, &quot;resolution&quot;: 30.0, &quot;sensorType&quot;: null, &quot;startTimeFromAscendingNode&quot;: &quot;2020-12-20T10:48:56Z&quot;, &quot;storageStatus&quot;: &quot;ONLINE&quot;, &quot;tilename&quot;: &quot;200030&quot;, &quot;title&quot;: &quot;20201220T104856_L8_200030_OLI_TIRS&quot;}, &quot;type&quot;: &quot;Feature&quot;}, {&quot;geometry&quot;: {&quot;coordinates&quot;: [[[-1.7679672999632903, 43.25815531863286, 0.0], [-1.747519127782274, 44.24655093448751, 0.0], [-0.3733540263, 44.22320973997534, 0.0], [-0.416191720429816, 43.23560095969715, 0.0], [-1.7679672999632903, 43.25815531863286, 0.0]]], &quot;type&quot;: &quot;Polygon&quot;}, &quot;id&quot;: &quot;20191215T110441_S2_T30TXP_L1C_114155&quot;, &quot;properties&quot;: {&quot;abstract&quot;: null, &quot;cloudCover&quot;: 0.6668, &quot;creationDate&quot;: &quot;2022-05-12T07:18:57.044675Z&quot;, &quot;downloadLink&quot;: &quot;/tmp/tmpuv326375/collections/Not Available/items/20191215T110441_S2_T30TXP_L1C_114155&quot;, &quot;eodag_product_type&quot;: &quot;S2_MSI_L1C&quot;, &quot;eodag_provider&quot;: &quot;stac_http_provider&quot;, &quot;eodag_search_intersection&quot;: {&quot;coordinates&quot;: [[[-1.7679672999632903, 43.25815531863286, 0.0], [-1.747519127782274, 44.24655093448751, 0.0], [-0.3733540263, 44.22320973997534, 0.0], [-0.416191720429816, 43.23560095969715, 0.0], [-1.7679672999632903, 43.25815531863286, 0.0]]], &quot;type&quot;: &quot;Polygon&quot;}, &quot;illuminationAzimuthAngle&quot;: 167.543494280222, &quot;illuminationElevationAngle&quot;: 67.991496343423, &quot;instrument&quot;: null, &quot;keywords&quot;: null, &quot;license&quot;: null, &quot;missionStartDate&quot;: null, &quot;platform&quot;: &quot;sentinel-2&quot;, &quot;platformSerialIdentifier&quot;: null, &quot;processingLevel&quot;: null, &quot;productType&quot;: null, &quot;proj:bbox&quot;: [600000.0, 4790220.0, 709800.0, 4900020.0], &quot;proj:centroid&quot;: {&quot;lat&quot;: 43.74293327815072, &quot;lon&quot;: -1.0762579548348727}, &quot;proj:epsg&quot;: 32630, &quot;proj:geometry&quot;: {&quot;coordinates&quot;: [[[600000.0, 4790220.0, 0.0], [600000.0, 4900020.0, 0.0], [709800.0, 4900020.0, 0.0], [709800.0, 4790220.0, 0.0], [600000.0, 4790220.0, 0.0]]], &quot;type&quot;: &quot;Polygon&quot;}, &quot;proj:shape&quot;: [10980, 10980], &quot;proj:transform&quot;: [10.0, 0.0, 600000.0, 0.0, -10.0, 4900020.0, 0.0, 0.0, 1.0], &quot;proj:wkt2&quot;: &quot;PROJCS[\\&quot;WGS 84 / UTM zone 30N\\&quot;,GEOGCS[\\&quot;WGS 84\\&quot;,DATUM[\\&quot;WGS_1984\\&quot;,SPHEROID[\\&quot;WGS 84\\&quot;,6378137,298.257223563,AUTHORITY[\\&quot;EPSG\\&quot;,\\&quot;7030\\&quot;]],AUTHORITY[\\&quot;EPSG\\&quot;,\\&quot;6326\\&quot;]],PRIMEM[\\&quot;Greenwich\\&quot;,0,AUTHORITY[\\&quot;EPSG\\&quot;,\\&quot;8901\\&quot;]],UNIT[\\&quot;degree\\&quot;,0.0174532925199433,AUTHORITY[\\&quot;EPSG\\&quot;,\\&quot;9122\\&quot;]],AUTHORITY[\\&quot;EPSG\\&quot;,\\&quot;4326\\&quot;]],PROJECTION[\\&quot;Transverse_Mercator\\&quot;],PARAMETER[\\&quot;latitude_of_origin\\&quot;,0],PARAMETER[\\&quot;central_meridian\\&quot;,-3],PARAMETER[\\&quot;scale_factor\\&quot;,0.9996],PARAMETER[\\&quot;false_easting\\&quot;,500000],PARAMETER[\\&quot;false_northing\\&quot;,0],UNIT[\\&quot;metre\\&quot;,1,AUTHORITY[\\&quot;EPSG\\&quot;,\\&quot;9001\\&quot;]],AXIS[\\&quot;Easting\\&quot;,EAST],AXIS[\\&quot;Northing\\&quot;,NORTH],AUTHORITY[\\&quot;EPSG\\&quot;,\\&quot;32630\\&quot;]]&quot;, &quot;resolution&quot;: 10.0, &quot;sensorType&quot;: null, &quot;startTimeFromAscendingNode&quot;: &quot;2019-12-15T11:04:41Z&quot;, &quot;storageStatus&quot;: &quot;ONLINE&quot;, &quot;tilename&quot;: &quot;T30TXP&quot;, &quot;title&quot;: &quot;20191215T110441_S2_T30TXP_L1C_114155&quot;}, &quot;type&quot;: &quot;Feature&quot;}], &quot;type&quot;: &quot;FeatureCollection&quot;});\n",
       "\n",
       "        \n",
       "    \n",
       "            geo_json_47a9a99a8e2f836134b1d81b48170b14.bindTooltip(\n",
       "                `&lt;div&gt;\n",
       "                     All products stored in the catalog\n",
       "                 &lt;/div&gt;`,\n",
       "                {&quot;sticky&quot;: true}\n",
       "            );\n",
       "        \n",
       "    \n",
       "        function geo_json_853cd551a6d8294b007a3fa47ebe2b7b_styler(feature) {\n",
       "            switch(feature.id) {\n",
       "                default:\n",
       "                    return {&quot;color&quot;: &quot;red&quot;};\n",
       "            }\n",
       "        }\n",
       "\n",
       "        function geo_json_853cd551a6d8294b007a3fa47ebe2b7b_onEachFeature(feature, layer) {\n",
       "            layer.on({\n",
       "            });\n",
       "        };\n",
       "        var geo_json_853cd551a6d8294b007a3fa47ebe2b7b = L.geoJson(null, {\n",
       "                onEachFeature: geo_json_853cd551a6d8294b007a3fa47ebe2b7b_onEachFeature,\n",
       "            \n",
       "                style: geo_json_853cd551a6d8294b007a3fa47ebe2b7b_styler,\n",
       "        });\n",
       "\n",
       "        function geo_json_853cd551a6d8294b007a3fa47ebe2b7b_add (data) {\n",
       "            geo_json_853cd551a6d8294b007a3fa47ebe2b7b\n",
       "                .addData(data)\n",
       "                .addTo(map_cdde159f4b36e1c59d9a58235adfa74c);\n",
       "        }\n",
       "            geo_json_853cd551a6d8294b007a3fa47ebe2b7b_add({&quot;features&quot;: [{&quot;geometry&quot;: {&quot;coordinates&quot;: [[[-0.5257721442427716, 42.11867021947156], [-0.53513640800301, 42.120492891025584], [-0.6947690400264263, 42.15164048628753], [-1.4127880648104656, 42.28864791606437], [-2.6808583122777816, 42.518305124564385], [-2.712242059444966, 42.523791726024534], [-2.7184464223068505, 42.524887836833244], [-2.719906233168643, 42.52516158897307], [-2.720635541529546, 42.525433544066345], [-2.720630726301183, 42.526514231852744], [-2.7202594350822302, 42.52786420023843], [-2.7176648128543817, 42.53623324954717], [-2.169091178236048, 44.23405498280795], [-2.1679148250686007, 44.23755763269748], [-2.167523945041018, 44.238635157453494], [-2.1671482900725656, 44.23863241913889], [-2.160401872211217, 44.23750265848751], [-2.1487840927522264, 44.23552602264769], [-2.080967686499834, 44.22392670072793], [-1.9173469656964803, 44.19575376924487], [-0.5389745349691696, 43.948029298314694], [0.08852945578784056, 43.829063241061384], [0.09148216498872173, 43.828443135837155], [0.09144036204853527, 43.827633976897175], [0.08969944706596057, 43.82281935419817], [0.07278964438778793, 43.77681882314969], [0.07062444021986937, 43.7709348921475], [0.044250999738701065, 43.69925410652834], [0.03519076985731035, 43.674645853503], [-0.0013956191453797012, 43.57513331934392], [-0.01298797638838677, 43.543564389891124], [-0.03184757736291297, 43.4921950647179], [-0.04853306393917747, 43.4467085044555], [-0.17430296264350253, 43.10143406279936], [-0.5164412323805064, 42.14386431506819], [-0.5237909963149087, 42.12295015525844], [-0.5254095665105432, 42.11866239601142], [-0.5257721442427716, 42.11867021947156]]], &quot;type&quot;: &quot;Polygon&quot;}, &quot;id&quot;: &quot;20201220T104856_L8_200030_OLI_TIRS&quot;, &quot;properties&quot;: {&quot;abstract&quot;: null, &quot;cloudCover&quot;: 16.36, &quot;creationDate&quot;: &quot;2022-05-12T07:18:53.175555Z&quot;, &quot;downloadLink&quot;: &quot;/tmp/tmpuv326375/collections/Not Available/items/20201220T104856_L8_200030_OLI_TIRS&quot;, &quot;eodag_product_type&quot;: &quot;L8_OLI_TIRS_C1L1&quot;, &quot;eodag_provider&quot;: &quot;stac_http_provider&quot;, &quot;eodag_search_intersection&quot;: {&quot;coordinates&quot;: [[[-0.957009651999954, 43.62414397500004], [-1.214325069999973, 43.630450472000064], [-1.212658386999976, 43.68664599400006], [-0.836793908999937, 43.86579353700006], [-0.776473646999932, 43.866692545000035], [-0.776474895999968, 43.74762178900005], [-0.957011404999946, 43.69790173300004], [-0.957009651999954, 43.62414397500004]]], &quot;type&quot;: &quot;Polygon&quot;}, &quot;illuminationAzimuthAngle&quot;: 161.76832577, &quot;illuminationElevationAngle&quot;: 68.76909132, &quot;instrument&quot;: null, &quot;keywords&quot;: null, &quot;license&quot;: null, &quot;missionStartDate&quot;: null, &quot;platform&quot;: &quot;landsat-8&quot;, &quot;platformSerialIdentifier&quot;: null, &quot;processingLevel&quot;: null, &quot;productType&quot;: null, &quot;proj:bbox&quot;: [521085.0, 4664985.0, 751515.0, 4899315.0], &quot;proj:centroid&quot;: {&quot;lat&quot;: 43.183607660455536, &quot;lon&quot;: -1.3295876133318103}, &quot;proj:epsg&quot;: 32630, &quot;proj:geometry&quot;: {&quot;coordinates&quot;: [[[704535.0, 4665915.0], [703755.0, 4666095.0], [690465.0, 4669185.0], [630855.0, 4683045.0], [526215.0, 4707375.0], [523635.0, 4707975.0], [523125.0, 4708095.0], [523005.0, 4708125.0], [522945.0, 4708155.0], [522945.0, 4708275.0], [522975.0, 4708425.0], [523185.0, 4709355.0], [566355.0, 4898205.0], [566445.0, 4898595.0], [566475.0, 4898715.0], [566505.0, 4898715.0], [567045.0, 4898595.0], [567975.0, 4898385.0], [573405.0, 4897155.0], [586515.0, 4894185.0], [697485.0, 4869045.0], [748335.0, 4857525.0], [748575.0, 4857465.0], [748575.0, 4857375.0], [748455.0, 4856835.0], [747285.0, 4851675.0], [747135.0, 4851015.0], [745305.0, 4842975.0], [744675.0, 4840215.0], [742125.0, 4829055.0], [741315.0, 4825515.0], [739995.0, 4819755.0], [738825.0, 4814655.0], [729945.0, 4775955.0], [705225.0, 4668735.0], [704685.0, 4666395.0], [704565.0, 4665915.0], [704535.0, 4665915.0]]], &quot;type&quot;: &quot;Polygon&quot;}, &quot;proj:shape&quot;: [7811, 7681], &quot;proj:transform&quot;: [30.0, 0.0, 521085.0, 0.0, -30.0, 4899315.0, 0.0, 0.0, 1.0], &quot;proj:wkt2&quot;: &quot;PROJCS[\\&quot;WGS 84 / UTM zone 30N\\&quot;,GEOGCS[\\&quot;WGS 84\\&quot;,DATUM[\\&quot;WGS_1984\\&quot;,SPHEROID[\\&quot;WGS 84\\&quot;,6378137,298.257223563,AUTHORITY[\\&quot;EPSG\\&quot;,\\&quot;7030\\&quot;]],AUTHORITY[\\&quot;EPSG\\&quot;,\\&quot;6326\\&quot;]],PRIMEM[\\&quot;Greenwich\\&quot;,0,AUTHORITY[\\&quot;EPSG\\&quot;,\\&quot;8901\\&quot;]],UNIT[\\&quot;degree\\&quot;,0.0174532925199433,AUTHORITY[\\&quot;EPSG\\&quot;,\\&quot;9122\\&quot;]],AUTHORITY[\\&quot;EPSG\\&quot;,\\&quot;4326\\&quot;]],PROJECTION[\\&quot;Transverse_Mercator\\&quot;],PARAMETER[\\&quot;latitude_of_origin\\&quot;,0],PARAMETER[\\&quot;central_meridian\\&quot;,-3],PARAMETER[\\&quot;scale_factor\\&quot;,0.9996],PARAMETER[\\&quot;false_easting\\&quot;,500000],PARAMETER[\\&quot;false_northing\\&quot;,0],UNIT[\\&quot;metre\\&quot;,1,AUTHORITY[\\&quot;EPSG\\&quot;,\\&quot;9001\\&quot;]],AXIS[\\&quot;Easting\\&quot;,EAST],AXIS[\\&quot;Northing\\&quot;,NORTH],AUTHORITY[\\&quot;EPSG\\&quot;,\\&quot;32630\\&quot;]]&quot;, &quot;resolution&quot;: 30.0, &quot;sensorType&quot;: null, &quot;startTimeFromAscendingNode&quot;: &quot;2020-12-20T10:48:56Z&quot;, &quot;storageStatus&quot;: &quot;ONLINE&quot;, &quot;tilename&quot;: &quot;200030&quot;, &quot;title&quot;: &quot;20201220T104856_L8_200030_OLI_TIRS&quot;}, &quot;type&quot;: &quot;Feature&quot;}], &quot;type&quot;: &quot;FeatureCollection&quot;});\n",
       "\n",
       "        \n",
       "    \n",
       "            geo_json_853cd551a6d8294b007a3fa47ebe2b7b.bindTooltip(\n",
       "                `&lt;div&gt;\n",
       "                     Retrieved products with the query\n",
       "                 &lt;/div&gt;`,\n",
       "                {&quot;sticky&quot;: true}\n",
       "            );\n",
       "        \n",
       "    \n",
       "        function geo_json_6d6d45b1174295cc47912bbaa3eb3717_styler(feature) {\n",
       "            switch(feature.id) {\n",
       "                default:\n",
       "                    return {&quot;color&quot;: &quot;blue&quot;};\n",
       "            }\n",
       "        }\n",
       "\n",
       "        function geo_json_6d6d45b1174295cc47912bbaa3eb3717_onEachFeature(feature, layer) {\n",
       "            layer.on({\n",
       "            });\n",
       "        };\n",
       "        var geo_json_6d6d45b1174295cc47912bbaa3eb3717 = L.geoJson(null, {\n",
       "                onEachFeature: geo_json_6d6d45b1174295cc47912bbaa3eb3717_onEachFeature,\n",
       "            \n",
       "                style: geo_json_6d6d45b1174295cc47912bbaa3eb3717_styler,\n",
       "        });\n",
       "\n",
       "        function geo_json_6d6d45b1174295cc47912bbaa3eb3717_add (data) {\n",
       "            geo_json_6d6d45b1174295cc47912bbaa3eb3717\n",
       "                .addData(data)\n",
       "                .addTo(map_cdde159f4b36e1c59d9a58235adfa74c);\n",
       "        }\n",
       "            geo_json_6d6d45b1174295cc47912bbaa3eb3717_add({&quot;features&quot;: [{&quot;geometry&quot;: {&quot;coordinates&quot;: [[[-0.957011404999946, 43.69790173300004], [-0.957009651999954, 43.62414397500004], [-1.214325069999973, 43.630450472000064], [-1.212658386999976, 43.68664599400006], [-0.836793908999937, 43.86579353700006], [-0.776473646999932, 43.866692545000035], [-0.776474895999968, 43.74762178900005], [-0.957011404999946, 43.69790173300004]]], &quot;type&quot;: &quot;Polygon&quot;}, &quot;id&quot;: &quot;0&quot;, &quot;type&quot;: &quot;Feature&quot;}], &quot;type&quot;: &quot;FeatureCollection&quot;});\n",
       "\n",
       "        \n",
       "    \n",
       "            geo_json_6d6d45b1174295cc47912bbaa3eb3717.bindTooltip(\n",
       "                `&lt;div&gt;\n",
       "                     DAX AOI\n",
       "                 &lt;/div&gt;`,\n",
       "                {&quot;sticky&quot;: true}\n",
       "            );\n",
       "        \n",
       "&lt;/script&gt;\" style=\"position:absolute;width:100%;height:100%;left:0;top:0;border:none !important;\" allowfullscreen webkitallowfullscreen mozallowfullscreen></iframe></div></div>"
      ],
      "text/plain": [
       "<folium.folium.Map at 0x7f4cf5a926a0>"
      ]
     },
     "execution_count": 14,
     "metadata": {},
     "output_type": "execute_result"
    }
   ],
   "source": [
    "import folium\n",
    "\n",
    "# Create a map zoomed over the search area\n",
    "fmap = folium.Map((43.2, -1.05), zoom_start=7)\n",
    "\n",
    "# Add a layer green layer for the query over the AOI\n",
    "folium.GeoJson(\n",
    "    data=all_products.as_geojson_object(),\n",
    "    tooltip = \"All products stored in the catalog\",\n",
    "    style_function=lambda x: {'color': 'green'}\n",
    ").add_to(fmap)\n",
    "\n",
    "# Add a layer green layer for the query over the AOI\n",
    "folium.GeoJson(\n",
    "    data=query_products.as_geojson_object(),\n",
    "    tooltip = \"Retrieved products with the query\",\n",
    "    style_function=lambda x: {'color': 'red'}\n",
    ").add_to(fmap)\n",
    "\n",
    "# Add a layer blue layer for the AOI\n",
    "folium.GeoJson(\n",
    "    data=aoi_geojson,\n",
    "    tooltip = \"DAX AOI\",\n",
    "    style_function=lambda x: {'color': 'blue'}\n",
    ").add_to(fmap)\n",
    "\n",
    "fmap"
   ]
  },
  {
   "cell_type": "code",
   "execution_count": 15,
   "id": "6f11e5ea",
   "metadata": {
    "pycharm": {
     "name": "#%%\n"
    },
    "scrolled": true
   },
   "outputs": [],
   "source": [
    "# Clean the tmp directory\n",
    "tmp.cleanup()\n"
   ]
  }
 ],
 "metadata": {
  "kernelspec": {
   "display_name": "Python 3 (ipykernel)",
   "language": "python",
   "name": "python3"
  },
  "language_info": {
   "codemirror_mode": {
    "name": "ipython",
    "version": 3
   },
   "file_extension": ".py",
   "mimetype": "text/x-python",
   "name": "python",
   "nbconvert_exporter": "python",
   "pygments_lexer": "ipython3",
   "version": "3.10.8"
  }
 },
 "nbformat": 4,
 "nbformat_minor": 5
}
