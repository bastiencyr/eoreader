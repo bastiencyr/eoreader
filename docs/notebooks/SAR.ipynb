{
 "cells": [
  {
   "cell_type": "markdown",
   "id": "1a8ab2e1",
   "metadata": {},
   "source": [
    "# SAR example\n",
    "Let's use EOReader with SAR data\n",
    "\n",
    "<div class=\"alert alert-warning\">\n",
    "  \n",
    "<strong>Warning:</strong> \n",
    "   <li> We do not provide COSMO-SkyMed data.\n",
    "   <li> You will need <strong>matplotlib</strong> to complete this tutorial\n",
    "</div>"
   ]
  },
  {
   "cell_type": "code",
   "execution_count": 1,
   "id": "fb4d6b22",
   "metadata": {},
   "outputs": [],
   "source": [
    "import os\n",
    "\n",
    "# First of all, we need some VHR data, let's use some COSMO-SkyMed data\n",
    "path = os.path.join(\"/home\", \"data\", \"DATA\", \"PRODS\", \"COSMO\", \"1st_GEN\", \"1001512-735097\")"
   ]
  },
  {
   "cell_type": "code",
   "execution_count": 2,
   "id": "84c8d4b1",
   "metadata": {},
   "outputs": [],
   "source": [
    "# Create logger\n",
    "import logging\n",
    "\n",
    "logger = logging.getLogger(\"eoreader\")\n",
    "logger.setLevel(logging.INFO)\n",
    "\n",
    "# create console handler and set level to debug\n",
    "ch = logging.StreamHandler()\n",
    "ch.setLevel(logging.INFO)\n",
    "\n",
    "# create formatter\n",
    "formatter = logging.Formatter('%(message)s')\n",
    "\n",
    "# add formatter to ch\n",
    "ch.setFormatter(formatter)\n",
    "\n",
    "# add ch to logger\n",
    "logger.addHandler(ch)"
   ]
  },
  {
   "cell_type": "code",
   "execution_count": 3,
   "id": "62e00730",
   "metadata": {},
   "outputs": [],
   "source": [
    "from eoreader.reader import Reader\n",
    "\n",
    "# Create the reader\n",
    "eoreader = Reader()"
   ]
  },
  {
   "cell_type": "code",
   "execution_count": 4,
   "id": "c568a5f9",
   "metadata": {
    "scrolled": true
   },
   "outputs": [
    {
     "ename": "ImportError",
     "evalue": "cannot import name 'VhrProduct' from partially initialized module 'eoreader.products' (most likely due to a circular import) (/home/data/eoreader/eoreader/products/__init__.py)",
     "output_type": "error",
     "traceback": [
      "\u001b[0;31m---------------------------------------------------------------------------\u001b[0m",
      "\u001b[0;31mImportError\u001b[0m                               Traceback (most recent call last)",
      "\u001b[0;32m/tmp/ipykernel_1180/691883071.py\u001b[0m in \u001b[0;36m<module>\u001b[0;34m\u001b[0m\n\u001b[1;32m      1\u001b[0m \u001b[0;31m# Open your product\u001b[0m\u001b[0;34m\u001b[0m\u001b[0;34m\u001b[0m\u001b[0m\n\u001b[0;32m----> 2\u001b[0;31m \u001b[0mprod\u001b[0m \u001b[0;34m=\u001b[0m \u001b[0meoreader\u001b[0m\u001b[0;34m.\u001b[0m\u001b[0mopen\u001b[0m\u001b[0;34m(\u001b[0m\u001b[0mpath\u001b[0m\u001b[0;34m,\u001b[0m \u001b[0mremove_tmp\u001b[0m\u001b[0;34m=\u001b[0m\u001b[0;32mTrue\u001b[0m\u001b[0;34m)\u001b[0m\u001b[0;34m\u001b[0m\u001b[0;34m\u001b[0m\u001b[0m\n\u001b[0m\u001b[1;32m      3\u001b[0m \u001b[0mprint\u001b[0m\u001b[0;34m(\u001b[0m\u001b[0;34mf\"Acquisition datetime: {prod.datetime}\"\u001b[0m\u001b[0;34m)\u001b[0m\u001b[0;34m\u001b[0m\u001b[0;34m\u001b[0m\u001b[0m\n\u001b[1;32m      4\u001b[0m \u001b[0mprint\u001b[0m\u001b[0;34m(\u001b[0m\u001b[0;34mf\"Condensed name: {prod.condensed_name}\"\u001b[0m\u001b[0;34m)\u001b[0m\u001b[0;34m\u001b[0m\u001b[0;34m\u001b[0m\u001b[0m\n\u001b[1;32m      5\u001b[0m \u001b[0;34m\u001b[0m\u001b[0m\n",
      "\u001b[0;32m/home/data/eoreader/eoreader/reader.py\u001b[0m in \u001b[0;36mopen\u001b[0;34m(self, product_path, archive_path, output_path, method, remove_tmp)\u001b[0m\n\u001b[1;32m    356\u001b[0m                 \u001b[0;31m# Manage both optical and SAR\u001b[0m\u001b[0;34m\u001b[0m\u001b[0;34m\u001b[0m\u001b[0m\n\u001b[1;32m    357\u001b[0m                 \u001b[0;32mtry\u001b[0m\u001b[0;34m:\u001b[0m\u001b[0;34m\u001b[0m\u001b[0;34m\u001b[0m\u001b[0m\n\u001b[0;32m--> 358\u001b[0;31m                     \u001b[0mmod\u001b[0m \u001b[0;34m=\u001b[0m \u001b[0mimportlib\u001b[0m\u001b[0;34m.\u001b[0m\u001b[0mimport_module\u001b[0m\u001b[0;34m(\u001b[0m\u001b[0;34mf\"eoreader.products.sar.{sat_class}\"\u001b[0m\u001b[0;34m)\u001b[0m\u001b[0;34m\u001b[0m\u001b[0;34m\u001b[0m\u001b[0m\n\u001b[0m\u001b[1;32m    359\u001b[0m                 \u001b[0;32mexcept\u001b[0m \u001b[0mModuleNotFoundError\u001b[0m\u001b[0;34m:\u001b[0m\u001b[0;34m\u001b[0m\u001b[0;34m\u001b[0m\u001b[0m\n\u001b[1;32m    360\u001b[0m                     mod = importlib.import_module(\n",
      "\u001b[0;32m/opt/conda/lib/python3.9/importlib/__init__.py\u001b[0m in \u001b[0;36mimport_module\u001b[0;34m(name, package)\u001b[0m\n\u001b[1;32m    125\u001b[0m                 \u001b[0;32mbreak\u001b[0m\u001b[0;34m\u001b[0m\u001b[0;34m\u001b[0m\u001b[0m\n\u001b[1;32m    126\u001b[0m             \u001b[0mlevel\u001b[0m \u001b[0;34m+=\u001b[0m \u001b[0;36m1\u001b[0m\u001b[0;34m\u001b[0m\u001b[0;34m\u001b[0m\u001b[0m\n\u001b[0;32m--> 127\u001b[0;31m     \u001b[0;32mreturn\u001b[0m \u001b[0m_bootstrap\u001b[0m\u001b[0;34m.\u001b[0m\u001b[0m_gcd_import\u001b[0m\u001b[0;34m(\u001b[0m\u001b[0mname\u001b[0m\u001b[0;34m[\u001b[0m\u001b[0mlevel\u001b[0m\u001b[0;34m:\u001b[0m\u001b[0;34m]\u001b[0m\u001b[0;34m,\u001b[0m \u001b[0mpackage\u001b[0m\u001b[0;34m,\u001b[0m \u001b[0mlevel\u001b[0m\u001b[0;34m)\u001b[0m\u001b[0;34m\u001b[0m\u001b[0;34m\u001b[0m\u001b[0m\n\u001b[0m\u001b[1;32m    128\u001b[0m \u001b[0;34m\u001b[0m\u001b[0m\n\u001b[1;32m    129\u001b[0m \u001b[0;34m\u001b[0m\u001b[0m\n",
      "\u001b[0;32m/opt/conda/lib/python3.9/importlib/_bootstrap.py\u001b[0m in \u001b[0;36m_gcd_import\u001b[0;34m(name, package, level)\u001b[0m\n",
      "\u001b[0;32m/opt/conda/lib/python3.9/importlib/_bootstrap.py\u001b[0m in \u001b[0;36m_find_and_load\u001b[0;34m(name, import_)\u001b[0m\n",
      "\u001b[0;32m/opt/conda/lib/python3.9/importlib/_bootstrap.py\u001b[0m in \u001b[0;36m_find_and_load_unlocked\u001b[0;34m(name, import_)\u001b[0m\n",
      "\u001b[0;32m/opt/conda/lib/python3.9/importlib/_bootstrap.py\u001b[0m in \u001b[0;36m_call_with_frames_removed\u001b[0;34m(f, *args, **kwds)\u001b[0m\n",
      "\u001b[0;32m/opt/conda/lib/python3.9/importlib/_bootstrap.py\u001b[0m in \u001b[0;36m_gcd_import\u001b[0;34m(name, package, level)\u001b[0m\n",
      "\u001b[0;32m/opt/conda/lib/python3.9/importlib/_bootstrap.py\u001b[0m in \u001b[0;36m_find_and_load\u001b[0;34m(name, import_)\u001b[0m\n",
      "\u001b[0;32m/opt/conda/lib/python3.9/importlib/_bootstrap.py\u001b[0m in \u001b[0;36m_find_and_load_unlocked\u001b[0;34m(name, import_)\u001b[0m\n",
      "\u001b[0;32m/opt/conda/lib/python3.9/importlib/_bootstrap.py\u001b[0m in \u001b[0;36m_call_with_frames_removed\u001b[0;34m(f, *args, **kwds)\u001b[0m\n",
      "\u001b[0;32m/opt/conda/lib/python3.9/importlib/_bootstrap.py\u001b[0m in \u001b[0;36m_gcd_import\u001b[0;34m(name, package, level)\u001b[0m\n",
      "\u001b[0;32m/opt/conda/lib/python3.9/importlib/_bootstrap.py\u001b[0m in \u001b[0;36m_find_and_load\u001b[0;34m(name, import_)\u001b[0m\n",
      "\u001b[0;32m/opt/conda/lib/python3.9/importlib/_bootstrap.py\u001b[0m in \u001b[0;36m_find_and_load_unlocked\u001b[0;34m(name, import_)\u001b[0m\n",
      "\u001b[0;32m/opt/conda/lib/python3.9/importlib/_bootstrap.py\u001b[0m in \u001b[0;36m_load_unlocked\u001b[0;34m(spec)\u001b[0m\n",
      "\u001b[0;32m/opt/conda/lib/python3.9/importlib/_bootstrap_external.py\u001b[0m in \u001b[0;36mexec_module\u001b[0;34m(self, module)\u001b[0m\n",
      "\u001b[0;32m/opt/conda/lib/python3.9/importlib/_bootstrap.py\u001b[0m in \u001b[0;36m_call_with_frames_removed\u001b[0;34m(f, *args, **kwds)\u001b[0m\n",
      "\u001b[0;32m/home/data/eoreader/eoreader/products/__init__.py\u001b[0m in \u001b[0;36m<module>\u001b[0;34m\u001b[0m\n\u001b[1;32m     19\u001b[0m \"\"\"\n\u001b[1;32m     20\u001b[0m \u001b[0;31m# flake8: noqa\u001b[0m\u001b[0;34m\u001b[0m\u001b[0;34m\u001b[0m\u001b[0m\n\u001b[0;32m---> 21\u001b[0;31m \u001b[0;32mfrom\u001b[0m \u001b[0;34m.\u001b[0m\u001b[0moptical\u001b[0m\u001b[0;34m.\u001b[0m\u001b[0mdimap_product\u001b[0m \u001b[0;32mimport\u001b[0m \u001b[0mDimapBandCombination\u001b[0m\u001b[0;34m,\u001b[0m \u001b[0mDimapProduct\u001b[0m\u001b[0;34m,\u001b[0m \u001b[0mDimapProductType\u001b[0m\u001b[0;34m\u001b[0m\u001b[0;34m\u001b[0m\u001b[0m\n\u001b[0m\u001b[1;32m     22\u001b[0m \u001b[0;32mfrom\u001b[0m \u001b[0;34m.\u001b[0m\u001b[0moptical\u001b[0m\u001b[0;34m.\u001b[0m\u001b[0ml1_product\u001b[0m \u001b[0;32mimport\u001b[0m \u001b[0mL1Product\u001b[0m\u001b[0;34m\u001b[0m\u001b[0;34m\u001b[0m\u001b[0m\n\u001b[1;32m     23\u001b[0m \u001b[0;32mfrom\u001b[0m \u001b[0;34m.\u001b[0m\u001b[0moptical\u001b[0m\u001b[0;34m.\u001b[0m\u001b[0ml2_product\u001b[0m \u001b[0;32mimport\u001b[0m \u001b[0mL2Product\u001b[0m\u001b[0;34m\u001b[0m\u001b[0;34m\u001b[0m\u001b[0m\n",
      "\u001b[0;32m/home/data/eoreader/eoreader/products/optical/dimap_product.py\u001b[0m in \u001b[0;36m<module>\u001b[0;34m\u001b[0m\n\u001b[1;32m     45\u001b[0m \u001b[0;32mfrom\u001b[0m \u001b[0meoreader\u001b[0m\u001b[0;34m.\u001b[0m\u001b[0mbands\u001b[0m \u001b[0;32mimport\u001b[0m \u001b[0mto_str\u001b[0m\u001b[0;34m\u001b[0m\u001b[0;34m\u001b[0m\u001b[0m\n\u001b[1;32m     46\u001b[0m \u001b[0;32mfrom\u001b[0m \u001b[0meoreader\u001b[0m\u001b[0;34m.\u001b[0m\u001b[0mexceptions\u001b[0m \u001b[0;32mimport\u001b[0m \u001b[0mInvalidProductError\u001b[0m\u001b[0;34m,\u001b[0m \u001b[0mInvalidTypeError\u001b[0m\u001b[0;34m\u001b[0m\u001b[0;34m\u001b[0m\u001b[0m\n\u001b[0;32m---> 47\u001b[0;31m \u001b[0;32mfrom\u001b[0m \u001b[0meoreader\u001b[0m\u001b[0;34m.\u001b[0m\u001b[0mproducts\u001b[0m \u001b[0;32mimport\u001b[0m \u001b[0mVhrProduct\u001b[0m\u001b[0;34m\u001b[0m\u001b[0;34m\u001b[0m\u001b[0m\n\u001b[0m\u001b[1;32m     48\u001b[0m \u001b[0;32mfrom\u001b[0m \u001b[0meoreader\u001b[0m\u001b[0;34m.\u001b[0m\u001b[0mutils\u001b[0m \u001b[0;32mimport\u001b[0m \u001b[0mDATETIME_FMT\u001b[0m\u001b[0;34m,\u001b[0m \u001b[0mEOREADER_NAME\u001b[0m\u001b[0;34m\u001b[0m\u001b[0;34m\u001b[0m\u001b[0m\n\u001b[1;32m     49\u001b[0m \u001b[0;34m\u001b[0m\u001b[0m\n",
      "\u001b[0;31mImportError\u001b[0m: cannot import name 'VhrProduct' from partially initialized module 'eoreader.products' (most likely due to a circular import) (/home/data/eoreader/eoreader/products/__init__.py)"
     ]
    }
   ],
   "source": [
    "# Open your product\n",
    "prod = eoreader.open(path, remove_tmp=True)\n",
    "print(f\"Acquisition datetime: {prod.datetime}\")\n",
    "print(f\"Condensed name: {prod.condensed_name}\")\n",
    "\n",
    "# Please be aware that EOReader will orthorectify your SAR data with SNAP\n",
    "# Be sure to have your GPT executable in your path"
   ]
  },
  {
   "cell_type": "code",
   "execution_count": null,
   "id": "481d7bed",
   "metadata": {
    "scrolled": true
   },
   "outputs": [],
   "source": [
    "# Open here some more interesting geographical data: extent\n",
    "extent = prod.extent\n",
    "extent.geometry.to_crs(\"EPSG:4326\").iat[0]  # Display"
   ]
  },
  {
   "cell_type": "code",
   "execution_count": null,
   "id": "cdba5fcb",
   "metadata": {},
   "outputs": [],
   "source": [
    "# Open here some more interesting geographical data: footprint\n",
    "footprint = prod.footprint\n",
    "footprint.geometry.to_crs(\"EPSG:4326\").iat[0]  # Display"
   ]
  },
  {
   "cell_type": "markdown",
   "id": "67cc139f",
   "metadata": {},
   "source": [
    "For SAR data, the footprint needs the orthorectified data !\n",
    "For that, SNAP uses its own DEM, but you can change it when positionning the `EOREADER_SNAP_DEM_NAME` environment variable. \n",
    "Available DEMs are:\n",
    "- `ACE2_5Min` \n",
    "- `ACE30`\n",
    "- `ASTER 1sec GDEM`\n",
    "- `Copernicus 30m Global DEM`(buggy for now, do not use it)\n",
    "- `Copernicus 90m Global DEM`(buggy for now, do not use it)\n",
    "- `GETASSE30` (by default)\n",
    "- `SRTM 1Sec HGT`\n",
    "- `SRTM 3Sec`\n",
    "- `External DEM`\n",
    "\n",
    "<div class=\"alert alert-warning\">\n",
    "  \n",
    "<strong>Warning:</strong> \n",
    "   If `External DEM` is set, you must specify the DEM you want by positioning the `EOREADER_DEM_PATH` to a DEM that can be read by SNAP.\n",
    "</div>\n",
    "    \n"
   ]
  },
  {
   "cell_type": "code",
   "execution_count": null,
   "id": "a122e342",
   "metadata": {},
   "outputs": [],
   "source": [
    "from eoreader.bands import *\n",
    "from eoreader.env_vars import DEM_PATH\n",
    "\n",
    "# Set the DEM\n",
    "os.environ[DEM_PATH] = os.path.join(\"/home\", \"data\", \"DS2\", \"BASES_DE_DONNEES\", \"GLOBAL\", \"COPDEM_30m\", \"COPDEM_30m.vrt\")\n",
    "\n",
    "# Select the bands you want to load\n",
    "bands = [VV, HH, VV_DSPK, HH_DSPK, HILLSHADE, SLOPE]\n",
    "\n",
    "# Be sure they exist for COSMO-SkyMed sensor:\n",
    "ok_bands = [band for band in bands if prod.has_band(band)]\n",
    "print(to_str(ok_bands)) # This product does not have VV band and HILLSHADE band cannot be computed from SAR band"
   ]
  },
  {
   "cell_type": "code",
   "execution_count": null,
   "id": "62873f96",
   "metadata": {},
   "outputs": [],
   "source": [
    "# Load those bands as a dict of xarray.DataArray, with a 20m resolution\n",
    "band_dict = prod.load(ok_bands, resolution=20.)\n",
    "band_dict[HH]"
   ]
  },
  {
   "cell_type": "code",
   "execution_count": null,
   "id": "2823e27a",
   "metadata": {},
   "outputs": [],
   "source": [
    "# Plot a subsampled version\n",
    "band_dict[SLOPE][:, ::10, ::10].plot()"
   ]
  },
  {
   "cell_type": "code",
   "execution_count": null,
   "id": "331e9088",
   "metadata": {},
   "outputs": [],
   "source": [
    "# You can also stack those bands\n",
    "stack = prod.stack(ok_bands)\n",
    "stack"
   ]
  },
  {
   "cell_type": "code",
   "execution_count": null,
   "id": "69813b6d",
   "metadata": {},
   "outputs": [],
   "source": [
    "# Error in plotting with a list\n",
    "if \"long_name\" in stack.attrs:\n",
    "    stack.attrs.pop(\"long_name\")\n",
    "\n",
    "# Plot a subsampled version\n",
    "import matplotlib.pyplot as plt\n",
    "nrows = len(stack)\n",
    "fig, axes = plt.subplots(nrows=nrows, figsize=(3*nrows, 6*nrows), subplot_kw={\"box_aspect\": 1})\n",
    "for i in range(nrows):\n",
    "    stack[i, ::10, ::10].plot(x=\"x\", y=\"y\", ax=axes[i])"
   ]
  }
 ],
 "metadata": {
  "kernelspec": {
   "display_name": "Python 3 (ipykernel)",
   "language": "python",
   "name": "python3"
  },
  "language_info": {
   "codemirror_mode": {
    "name": "ipython",
    "version": 3
   },
   "file_extension": ".py",
   "mimetype": "text/x-python",
   "name": "python",
   "nbconvert_exporter": "python",
   "pygments_lexer": "ipython3",
   "version": "3.9.7"
  },
  "metadata": {
   "execution": {
    "timeout": -1
   }
  }
 },
 "nbformat": 4,
 "nbformat_minor": 5
}
