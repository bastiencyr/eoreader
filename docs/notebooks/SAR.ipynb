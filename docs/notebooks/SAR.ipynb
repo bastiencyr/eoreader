{
 "cells": [
  {
   "cell_type": "markdown",
   "id": "1a8ab2e1",
   "metadata": {},
   "source": [
    "# SAR example\n",
    "Let's use EOReader with SAR data\n",
    "\n",
    "<div class=\"alert alert-warning\">\n",
    "  \n",
    "<strong>Warning:</strong> \n",
    "   <li> We do not provide COSMO-SkyMed data.\n",
    "   <li> You will need <strong>matplotlib</strong> to complete this tutorial\n",
    "</div>"
   ]
  },
  {
   "cell_type": "code",
   "execution_count": 1,
   "id": "fb4d6b22",
   "metadata": {},
   "outputs": [],
   "source": [
    "import os\n",
    "\n",
    "# First of all, we need some VHR data, let's use some COSMO-SkyMed data\n",
    "path = os.path.join(\"/home\", \"data\", \"DATA\", \"PRODS\", \"COSMO\", \"1st_GEN\", \"1001512-735097\")"
   ]
  },
  {
   "cell_type": "code",
   "execution_count": 2,
   "id": "84c8d4b1",
   "metadata": {},
   "outputs": [],
   "source": [
    "# Create logger\n",
    "import logging\n",
    "\n",
    "logger = logging.getLogger(\"eoreader\")\n",
    "logger.setLevel(logging.INFO)\n",
    "\n",
    "# create console handler and set level to debug\n",
    "ch = logging.StreamHandler()\n",
    "ch.setLevel(logging.INFO)\n",
    "\n",
    "# create formatter\n",
    "formatter = logging.Formatter('%(message)s')\n",
    "\n",
    "# add formatter to ch\n",
    "ch.setFormatter(formatter)\n",
    "\n",
    "# add ch to logger\n",
    "logger.addHandler(ch)"
   ]
  },
  {
   "cell_type": "code",
   "execution_count": 3,
   "id": "62e00730",
   "metadata": {},
   "outputs": [],
   "source": [
    "from eoreader.reader import Reader\n",
    "\n",
    "# Create the reader\n",
    "eoreader = Reader()"
   ]
  },
  {
   "cell_type": "code",
   "execution_count": 4,
   "id": "c568a5f9",
   "metadata": {
    "scrolled": true
   },
   "outputs": [
    {
     "name": "stdout",
     "output_type": "stream",
     "text": [
      "Acquisition datetime: 2020-10-08 22:40:18.446381\n",
      "Condensed name: 20201008T224018_CSK_HI_DGM\n"
     ]
    }
   ],
   "source": [
    "# Open your product\n",
    "prod = eoreader.open(path, remove_tmp=True)\n",
    "print(f\"Acquisition datetime: {prod.datetime}\")\n",
    "print(f\"Condensed name: {prod.condensed_name}\")\n",
    "\n",
    "# Please be aware that EOReader will orthorectify your SAR data with SNAP\n",
    "# Be sure to have your GPT executable in your path"
   ]
  },
  {
   "cell_type": "code",
   "execution_count": 5,
   "id": "481d7bed",
   "metadata": {
    "scrolled": true
   },
   "outputs": [
    {
     "data": {
      "image/svg+xml": [
       "<svg xmlns=\"http://www.w3.org/2000/svg\" xmlns:xlink=\"http://www.w3.org/1999/xlink\" width=\"100.0\" height=\"100.0\" viewBox=\"108.24050267999999 15.31597468 0.5353646400000116 0.48093163999999966\" preserveAspectRatio=\"xMinYMin meet\"><g transform=\"matrix(1,0,0,-1,0,31.112881)\"><path fill-rule=\"evenodd\" fill=\"#66cc99\" stroke=\"#555555\" stroke-width=\"0.010707292800000233\" opacity=\"0.6\" d=\"M 108.331754,15.335803 L 108.756039,15.413777 L 108.685396,15.777078 L 108.260331,15.699252 L 108.331754,15.335803 z\" /></g></svg>"
      ],
      "text/plain": [
       "<shapely.geometry.polygon.Polygon at 0x7fc3506d2580>"
      ]
     },
     "execution_count": 5,
     "metadata": {},
     "output_type": "execute_result"
    }
   ],
   "source": [
    "# Open here some more interesting geographical data: extent\n",
    "extent = prod.extent\n",
    "extent.geometry.to_crs(\"EPSG:4326\").iat[0]  # Display"
   ]
  },
  {
   "cell_type": "code",
   "execution_count": null,
   "id": "cdba5fcb",
   "metadata": {},
   "outputs": [
    {
     "name": "stdout",
     "output_type": "stream",
     "text": [
      "Executing processing graph\n",
      "....10%....20%....30%....40%....50%....60%....70%"
     ]
    }
   ],
   "source": [
    "# Open here some more interesting geographical data: footprint\n",
    "footprint = prod.footprint\n",
    "footprint.geometry.to_crs(\"EPSG:4326\").iat[0]  # Display"
   ]
  },
  {
   "cell_type": "markdown",
   "id": "67cc139f",
   "metadata": {},
   "source": [
    "For SAR data, the footprint needs the orthorectified data !\n",
    "For that, SNAP uses its own DEM, but you can change it when positionning the `EOREADER_SNAP_DEM_NAME` environment variable. \n",
    "Available DEMs are:\n",
    "- `ACE2_5Min` \n",
    "- `ACE30`\n",
    "- `ASTER 1sec GDEM`\n",
    "- `Copernicus 30m Global DEM`(buggy for now, do not use it)\n",
    "- `Copernicus 90m Global DEM`(buggy for now, do not use it)\n",
    "- `GETASSE30` (by default)\n",
    "- `SRTM 1Sec HGT`\n",
    "- `SRTM 3Sec`\n",
    "- `External DEM`\n",
    "\n",
    "<div class=\"alert alert-warning\">\n",
    "  \n",
    "<strong>Warning:</strong> \n",
    "   If `External DEM` is set, you must specify the DEM you want by positioning the `EOREADER_DEM_PATH` to a DEM that can be read by SNAP.\n",
    "</div>\n",
    "    \n"
   ]
  },
  {
   "cell_type": "code",
   "execution_count": null,
   "id": "a122e342",
   "metadata": {},
   "outputs": [],
   "source": [
    "from eoreader.bands import *\n",
    "from eoreader.env_vars import DEM_PATH\n",
    "\n",
    "# Set the DEM\n",
    "os.environ[DEM_PATH] = os.path.join(\"/home\", \"data\", \"DS2\", \"BASES_DE_DONNEES\", \"GLOBAL\", \"MERIT_Hydrologically_Adjusted_Elevations\", \"MERIT_DEM.vrt\")\n",
    "\n",
    "# Select the bands you want to load\n",
    "bands = [VV, HH, VV_DSPK, HH_DSPK, HILLSHADE, SLOPE]\n",
    "\n",
    "# Be sure they exist for COSMO-SkyMed sensor:\n",
    "ok_bands = [band for band in bands if prod.has_band(band)]\n",
    "print(to_str(ok_bands)) # This product does not have VV band and HILLSHADE band cannot be computed from SAR band"
   ]
  },
  {
   "cell_type": "code",
   "execution_count": null,
   "id": "62873f96",
   "metadata": {},
   "outputs": [],
   "source": [
    "# Load those bands as a dict of xarray.DataArray, with a 20m resolution\n",
    "band_dict = prod.load(ok_bands, resolution=20.)\n",
    "band_dict[HH]"
   ]
  },
  {
   "cell_type": "code",
   "execution_count": null,
   "id": "2823e27a",
   "metadata": {},
   "outputs": [],
   "source": [
    "# Plot a subsampled version\n",
    "band_dict[SLOPE][:, ::10, ::10].plot()"
   ]
  },
  {
   "cell_type": "code",
   "execution_count": null,
   "id": "331e9088",
   "metadata": {},
   "outputs": [],
   "source": [
    "# You can also stack those bands\n",
    "stack = prod.stack(ok_bands)\n",
    "stack"
   ]
  },
  {
   "cell_type": "code",
   "execution_count": null,
   "id": "69813b6d",
   "metadata": {},
   "outputs": [],
   "source": [
    "# Error in plotting with a list\n",
    "if \"long_name\" in stack.attrs:\n",
    "    stack.attrs.pop(\"long_name\")\n",
    "\n",
    "# Plot a subsampled version\n",
    "import matplotlib.pyplot as plt\n",
    "nrows = len(stack)\n",
    "fig, axes = plt.subplots(nrows=nrows, figsize=(3*nrows, 6*nrows), subplot_kw={\"box_aspect\": 1})\n",
    "for i in range(nrows):\n",
    "    stack[i, ::10, ::10].plot(x=\"x\", y=\"y\", ax=axes[i])"
   ]
  }
 ],
 "metadata": {
  "kernelspec": {
   "display_name": "Python 3 (ipykernel)",
   "language": "python",
   "name": "python3"
  },
  "language_info": {
   "codemirror_mode": {
    "name": "ipython",
    "version": 3
   },
   "file_extension": ".py",
   "mimetype": "text/x-python",
   "name": "python",
   "nbconvert_exporter": "python",
   "pygments_lexer": "ipython3",
   "version": "3.9.7"
  },
  "metadata": {
   "execution": {
    "timeout": -1
   }
  }
 },
 "nbformat": 4,
 "nbformat_minor": 5
}
